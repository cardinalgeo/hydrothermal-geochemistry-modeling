{
 "cells": [
  {
   "cell_type": "markdown",
   "metadata": {},
   "source": [
    "# Co and Cu speciation in hydrothermal fluids"
   ]
  },
  {
   "cell_type": "markdown",
   "metadata": {},
   "source": [
    "In this notebook, I investigate the aqueous speciation of Cu and Co in acidic, saline hydrothermal fluids. "
   ]
  },
  {
   "cell_type": "code",
   "execution_count": 19,
   "metadata": {},
   "outputs": [],
   "source": [
    "import thermofun as fun\n",
    "import thermohubclient as client\n",
    "import reaktoro as rkt\n",
    "import math as math"
   ]
  },
  {
   "cell_type": "code",
   "execution_count": 20,
   "metadata": {},
   "outputs": [],
   "source": [
    "database = fun.Database('/Users/robertcollar/Documents/Github/thermofun-jupyter/databases/aq17-gem-lma-thermofun.json')\n",
    "engine = fun.ThermoEngine(database)"
   ]
  },
  {
   "cell_type": "code",
   "execution_count": 21,
   "metadata": {},
   "outputs": [
    {
     "ename": "RuntimeError",
     "evalue": "\n******************************************************************************\n*** Error: Cannot get an instance of the substance `Cl-` in the database.\n*** Reason: There is no such substance in the database.\n*** Location: :158\n******************************************************************************\n\n",
     "output_type": "error",
     "traceback": [
      "\u001b[0;31m---------------------------------------------------------------------------\u001b[0m",
      "\u001b[0;31mRuntimeError\u001b[0m                              Traceback (most recent call last)",
      "\u001b[0;32m<ipython-input-21-9e127f5a14b3>\u001b[0m in \u001b[0;36m<module>\u001b[0;34m\u001b[0m\n\u001b[0;32m----> 1\u001b[0;31m \u001b[0mreaction_properties\u001b[0m \u001b[0;34m=\u001b[0m \u001b[0mengine\u001b[0m\u001b[0;34m.\u001b[0m\u001b[0mthermoPropertiesReaction\u001b[0m\u001b[0;34m(\u001b[0m\u001b[0;36m298.15\u001b[0m\u001b[0;34m,\u001b[0m \u001b[0;36m1e5\u001b[0m\u001b[0;34m,\u001b[0m \u001b[0;34m\"CoCl4-- = Co++ + 4Cl-\"\u001b[0m\u001b[0;34m)\u001b[0m \u001b[0;31m#[K, Pa]\u001b[0m\u001b[0;34m\u001b[0m\u001b[0;34m\u001b[0m\u001b[0m\n\u001b[0m\u001b[1;32m      2\u001b[0m \u001b[0mlogK\u001b[0m \u001b[0;34m=\u001b[0m \u001b[0mreaction_properties\u001b[0m\u001b[0;34m.\u001b[0m\u001b[0mlog_equilibrium_constant\u001b[0m\u001b[0;34m\u001b[0m\u001b[0;34m\u001b[0m\u001b[0m\n",
      "\u001b[0;31mRuntimeError\u001b[0m: \n******************************************************************************\n*** Error: Cannot get an instance of the substance `Cl-` in the database.\n*** Reason: There is no such substance in the database.\n*** Location: :158\n******************************************************************************\n\n"
     ]
    }
   ],
   "source": [
    "reaction_properties = engine.thermoPropertiesReaction(298.15, 1e5, \"CoCl4-- = Co++ + 4Cl-\") #[K, Pa]\n",
    "logK = reaction_properties.log_equilibrium_constant"
   ]
  },
  {
   "cell_type": "markdown",
   "metadata": {},
   "source": [
    "Chemical Reaction: $$Al_2(SO_{4}^{2-})_{3(s)} \\leftrightarrow 2Al^{3+}_{(aq)} + 3SO_{4(aq)}^{2-}$$"
   ]
  },
  {
   "cell_type": "code",
   "execution_count": 37,
   "metadata": {},
   "outputs": [
    {
     "name": "stdout",
     "output_type": "stream",
     "text": [
      "<class 'list'>\n"
     ]
    }
   ],
   "source": [
    "# list of species in our reaction\n",
    "species = [\"Aluminum Sulfate\",\"Al+3\", \"SO4-2\"]\n",
    "\n",
    "# stoichiometric coefficients\n",
    "st_coef = [-1, 2, 3]\n",
    "print(type(st_coef))\n",
    "\n",
    "# temperature and pressure conditions\n",
    "T = 298.15 # [K]\n",
    "P = 1e5 # [Pa]\n",
    "\n",
    "# gas constant\n",
    "R = 8.314 # [J*mol^-1*K^-1]"
   ]
  },
  {
   "cell_type": "code",
   "execution_count": 44,
   "metadata": {},
   "outputs": [],
   "source": [
    "# initialize thermodynamic properties lists\n",
    "G = []\n",
    "H = []\n",
    "S = []\n",
    "V = []\n",
    "Cp = []"
   ]
  },
  {
   "cell_type": "code",
   "execution_count": 45,
   "metadata": {},
   "outputs": [
    {
     "name": "stdout",
     "output_type": "stream",
     "text": [
      "[-3099919.0, -486594.00000420073, -744459.1200048233]\n"
     ]
    }
   ],
   "source": [
    "for i, specie in enumerate(species): \n",
    "    properties = engine.thermoPropertiesSubstance(T, P, specie) # note that \"Aluminum Sulphate\" corresponds with the \"symbol,\" not the \"name,\" in the json file. \n",
    "    G.append(properties.gibbs_energy.val)\n",
    "    H.append(properties.enthalpy.val)\n",
    "    S.append(properties.entropy.val)\n",
    "    V.append(properties.volume.val) # J/bar\n",
    "    Cp.append(properties.heat_capacity_cp.val)\n",
    "    \n",
    "print(G)\n"
   ]
  },
  {
   "cell_type": "markdown",
   "metadata": {},
   "source": [
    "In order to calculate the solubility product of this reaction, we will first need calculate its $\\Delta_r G°$."
   ]
  },
  {
   "cell_type": "code",
   "execution_count": 40,
   "metadata": {},
   "outputs": [
    {
     "name": "stdout",
     "output_type": "stream",
     "text": [
      "[3099919.0, -973188.0000084015, -2233377.36001447]\n",
      "-106646.36002287129\n"
     ]
    }
   ],
   "source": [
    "delGr = sum(a * b for a, b in zip(st_coef, G))\n",
    "print(delGr)"
   ]
  },
  {
   "cell_type": "markdown",
   "metadata": {},
   "source": [
    "Now, we can calculate $K_{sp}$ using $\\Delta_rG° = -RTln(K_{sp})$"
   ]
  },
  {
   "cell_type": "code",
   "execution_count": 41,
   "metadata": {},
   "outputs": [
    {
     "name": "stdout",
     "output_type": "stream",
     "text": [
      "4.838085621773235e+18\n"
     ]
    }
   ],
   "source": [
    "Ksp = math.exp(-delGr/(R*T))\n",
    "print(Ksp)"
   ]
  },
  {
   "cell_type": "code",
   "execution_count": 42,
   "metadata": {},
   "outputs": [
    {
     "name": "stdout",
     "output_type": "stream",
     "text": [
      "gibbs_energy = [-3099919.0, -486594.00000420073, -744459.1200048233] J/mol\n",
      "enthalpy = [-3465052.0, -537882.7611236677, -909602.4738909043] J/mol\n",
      "entropy = [239.36, -339.74254304157995, 18.825068971722065] J/mol/K\n",
      "volume = [10.131999969482, -4.534256034956643, 1.2912082818768043] J/bar\n",
      "heat_capacity_cp = [276.7202772486522, -119.51466114943673, -266.28618610568867] J/mol/K\n"
     ]
    }
   ],
   "source": [
    "print(f'gibbs_energy = {G} J/mol')\n",
    "print(f'enthalpy = {H} J/mol')\n",
    "print(f'entropy = {S} J/mol/K')\n",
    "print(f'volume = {V} J/bar')\n",
    "print(f'heat_capacity_cp = {Cp} J/mol/K')"
   ]
  },
  {
   "cell_type": "code",
   "execution_count": null,
   "metadata": {},
   "outputs": [],
   "source": []
  }
 ],
 "metadata": {
  "kernelspec": {
   "display_name": "Python [conda env:geochem_model_env] *",
   "language": "python",
   "name": "conda-env-geochem_model_env-py"
  },
  "language_info": {
   "codemirror_mode": {
    "name": "ipython",
    "version": 3
   },
   "file_extension": ".py",
   "mimetype": "text/x-python",
   "name": "python",
   "nbconvert_exporter": "python",
   "pygments_lexer": "ipython3",
   "version": "3.8.5"
  }
 },
 "nbformat": 4,
 "nbformat_minor": 4
}
