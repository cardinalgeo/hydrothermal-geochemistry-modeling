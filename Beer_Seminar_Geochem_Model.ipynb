{
 "cells": [
  {
   "cell_type": "markdown",
   "metadata": {
    "slideshow": {
     "slide_type": "slide"
    }
   },
   "source": [
    "# Intro to ThermoFun and Reaktoro: Modeling the formation of stratiform, sediment-hosted Cu(-Co) deposits\n",
    "\n",
    "[![Open In Colab](https://colab.research.google.com/assets/colab-badge.svg)](https://colab.research.google.com/github/cardinalgeo/hydrothermal-geochemistry-modeling/blob/main/Beer_Seminar_Geochem_Model.ipynb)\n",
    "  "
   ]
  },
  {
   "cell_type": "markdown",
   "metadata": {},
   "source": [
    "## Before we start...setting up coding environment"
   ]
  },
  {
   "cell_type": "code",
   "execution_count": null,
   "metadata": {
    "scrolled": true
   },
   "outputs": [],
   "source": [
    "!pip install -q condacolab\n",
    "import condacolab\n",
    "condacolab.install_miniforge()"
   ]
  },
  {
   "cell_type": "markdown",
   "metadata": {},
   "source": [
    "Add libraries that aren't already in the Colab coding environment. "
   ]
  },
  {
   "cell_type": "code",
   "execution_count": null,
   "metadata": {},
   "outputs": [],
   "source": [
    "!conda install reaktoro\n",
    "!conda install thermofun\n",
    "!conda install thermohubclient"
   ]
  },
  {
   "cell_type": "markdown",
   "metadata": {
    "slideshow": {
     "slide_type": "slide"
    }
   },
   "source": [
    "## What to expect\n",
    "- Introduction to modeling framework (Python, ThermoFun & Reaktoro, and Jupyter Notebooks)\n",
    "- How thermodynamic data are stored and accessed\n",
    "- Geochemical modeling example\n",
    "- **Not** a presentation on thermodynamics theory\n",
    "    "
   ]
  },
  {
   "cell_type": "markdown",
   "metadata": {
    "slideshow": {
     "slide_type": "slide"
    }
   },
   "source": [
    "## A brief introduction\n",
    "### Why **Python**? \n",
    "- readable\n",
    "- open-source $\\rightarrow$ free"
   ]
  },
  {
   "cell_type": "markdown",
   "metadata": {
    "slideshow": {
     "slide_type": "subslide"
    }
   },
   "source": [
    "### Two main librarires\n",
    "- **ThermoFun** (Dan Miron @ Paul Scherrer Institute, Switzerland)\n",
    "    - calculate thermodynamic properties ($\\Delta H$, $S$, $\\Delta G$, $V$, $C_p$, etc.) of a substance or reaction @ T,P\n",
    "- **Reaktoro** (Allan Leal @ ETH Zurich, Switzerland)\n",
    "    - model (geo)chemical processes involving thermodynamics and kinetics\n",
    "    - Gibbs Energy Minimization (**GEM**) approach (e.g., HCh, GEM-Selektor)\n",
    "        - Law of Mass Action (**LMA**) (e.g., PHREEQC) $\\rightarrow$ **GEM**"
   ]
  },
  {
   "cell_type": "markdown",
   "metadata": {
    "slideshow": {
     "slide_type": "subslide"
    }
   },
   "source": [
    "| Substances                                                           | Reactions                               | Fluid EoS                  | $H_2O$ EoS                                        |   |\n",
    "|:---------------------------------------------------------------------|:----------------------------------------|:---------------------------|:-----------------------------------------------|:--|\n",
    "| Birch-Muraghan, Cp and V integration                                 | Marshall-Franck density model           | Churakov-Gottschalk (CG)   | Haar-Gallagher-Kell (HGK)                      |   |\n",
    "| Berman dVdP                                                          | **Modified Ryzhenko-Bryzgalin (MRB) model** | Peng-Robinson              | IAPWS Formulations-1995                        |   |\n",
    "| **HKF (Helgeson-Kirkham-Flowers)**                                       | Dolejs and Manning (2010) density model | Peng-Robinson-Stryjek-Vera | PVT Zhang and Duan (2005)                      |   |\n",
    "| Akinfiev-Diamond nonelectrolyte model                                |                                         | Compensated Redlich-Kwong  | Ideal Gas Wolley                               |   |\n",
    "| Holland and Powell (1998) modified density model for aqueous species |                                         | Soave-Redlich-Kwong        | Dielectric constant: Johnson and Norton (1992) |   |\n",
    "| Anderson et al. (1991) density model for aqueous species             |                                         | Sterner-Pitzer             | Dielectric constant: Fernandez et al. (1997)   |   |\n",
    "|                                                                      |                                         |                            | Dielectric constant: Sverjensky et al. (2014)                       |   |"
   ]
  },
  {
   "cell_type": "markdown",
   "metadata": {
    "slideshow": {
     "slide_type": "subslide"
    }
   },
   "source": [
    "### Jupyter Notebook\n",
    "- document containing code interpersed with text, equations, images, etc. \n",
    "- code and text cells"
   ]
  },
  {
   "cell_type": "markdown",
   "metadata": {
    "slideshow": {
     "slide_type": "slide"
    }
   },
   "source": [
    "## Why consider an alternative to HCh? ### \n",
    "- HCh is...\n",
    "    - no longer being actively maintained\n",
    "    - Windows OS-only"
   ]
  },
  {
   "cell_type": "markdown",
   "metadata": {
    "slideshow": {
     "slide_type": "slide"
    }
   },
   "source": [
    "### An alternative that is...\n",
    "- open source\n",
    "- actively maintained and improved\n",
    "- accessible and flexible\n",
    "- reproducible\n",
    "- can be coupled with other libraries in the Python ecosystem\n",
    "- **the result**: \n",
    "    - *accessible narrative or recipe that anyone can run*"
   ]
  },
  {
   "cell_type": "markdown",
   "metadata": {
    "slideshow": {
     "slide_type": "slide"
    }
   },
   "source": [
    "# Demo: code and text cells"
   ]
  },
  {
   "cell_type": "markdown",
   "metadata": {
    "slideshow": {
     "slide_type": "slide"
    }
   },
   "source": [
    "## Python demo"
   ]
  },
  {
   "cell_type": "code",
   "execution_count": null,
   "metadata": {
    "slideshow": {
     "slide_type": "-"
    }
   },
   "outputs": [],
   "source": [
    "a = 5 # J/mol\n",
    "b = 2\n",
    "c = a + b\n",
    "# print(a + b)\n",
    "print(c)"
   ]
  },
  {
   "cell_type": "code",
   "execution_count": null,
   "metadata": {
    "slideshow": {
     "slide_type": "-"
    }
   },
   "outputs": [],
   "source": [
    "# this is the same as before\n",
    "print(c)"
   ]
  },
  {
   "cell_type": "code",
   "execution_count": null,
   "metadata": {
    "slideshow": {
     "slide_type": "subslide"
    }
   },
   "outputs": [],
   "source": [
    "def myFunction(x): \n",
    "    y = x + 2\n",
    "    return y\n",
    "print(myFunction(2))"
   ]
  },
  {
   "cell_type": "markdown",
   "metadata": {
    "slideshow": {
     "slide_type": "slide"
    }
   },
   "source": [
    "## Markdown demo"
   ]
  },
  {
   "cell_type": "markdown",
   "metadata": {
    "slideshow": {
     "slide_type": "-"
    }
   },
   "source": [
    "Reaction: $Ni + \\frac{1}{2}O_2 \\rightarrow NiO$"
   ]
  },
  {
   "cell_type": "markdown",
   "metadata": {
    "slideshow": {
     "slide_type": "slide"
    }
   },
   "source": [
    "## On to the modeling! \n",
    "\n",
    "In this next section, I'll walk through a simple model for the formation of **stratiform, sediment-hosted Cu(-Co) deposits**. Along the way, we'll see how to: \n",
    "- import Reaktoro and ThermoFun\n",
    "- create a thermodynamic database from a data file\n",
    "- create a chemical system\n",
    "- add substances to that system\n",
    "- equilibrate! "
   ]
  },
  {
   "cell_type": "markdown",
   "metadata": {
    "slideshow": {
     "slide_type": "slide"
    }
   },
   "source": [
    "## Import libraries"
   ]
  },
  {
   "cell_type": "code",
   "execution_count": null,
   "metadata": {
    "slideshow": {
     "slide_type": "subslide"
    }
   },
   "outputs": [],
   "source": [
    "import reaktoro as rkt # Gibbs free energy minimization (GEM)\n",
    "import thermofun as fun # thermo. properties at T,P\n",
    "import thermohubclient as client # get thermo. data\n",
    "\n",
    "import numpy as np # facilitate math \n",
    "import matplotlib.pyplot as plt # plotting"
   ]
  },
  {
   "cell_type": "markdown",
   "metadata": {
    "slideshow": {
     "slide_type": "slide"
    }
   },
   "source": [
    "## Set up a thermodynamic database"
   ]
  },
  {
   "cell_type": "code",
   "execution_count": null,
   "metadata": {
    "slideshow": {
     "slide_type": "subslide"
    }
   },
   "outputs": [],
   "source": [
    "# download data file \n",
    "dbc = client.DatabaseClient()\n",
    "dbc.saveDatabase(\"mines16\")\n",
    "\n",
    "# create database object from data file\n",
    "database = fun.Database('./mines16-thermofun.json')"
   ]
  },
  {
   "cell_type": "markdown",
   "metadata": {
    "slideshow": {
     "slide_type": "skip"
    }
   },
   "source": [
    "Because the pyrrhotite entry in the mines16 data file is missing a critical piece of information—an issue I've submitted a fix for but which the developer has yet to resolve—I will instead use a data file stored in my google drive. To access it, I will define and then use the function `folder_download`, which will access the data file's parent folder and download its contents to Colab. The function is copied from [here](https://gist.github.com/korakot/51a917e1f53891d53be223439b0f75c1). "
   ]
  },
  {
   "cell_type": "code",
   "execution_count": null,
   "metadata": {
    "slideshow": {
     "slide_type": "subslide"
    }
   },
   "outputs": [],
   "source": [
    "import requests # This library is used to make requests to internet\n",
    "\n",
    "url = 'https://drive.google.com/file/d/13IDVpjXU4UM_X-f-KT6gf47UQ-gxDQNC/view?usp=sharing'\n",
    "url = 'https://drive.google.com/uc?export=download&id='+url.split('/')[-2]\n",
    "\n",
    "# We are creating a requests variable with the above url\n",
    "r = requests.get(url, allow_redirects=True)\n",
    "# We are writing the content of above request to mines16-thermofun.json\n",
    "open('./mines16-thermofun.json', 'wb').write(r.content);\n",
    "\n",
    "# create database object from data file\n",
    "database = fun.Database('./mines16-thermofun.json')\n"
   ]
  },
  {
   "cell_type": "code",
   "execution_count": null,
   "metadata": {
    "slideshow": {
     "slide_type": "skip"
    }
   },
   "outputs": [],
   "source": [
    "import json \n",
    "with open('./mines16-thermofun.json') as json_file:\n",
    "    mines16 = json.load(json_file)"
   ]
  },
  {
   "cell_type": "markdown",
   "metadata": {
    "slideshow": {
     "slide_type": "slide"
    }
   },
   "source": [
    "Let's first take a look at how the `mines16-thermofun.json` data file is formatted. \n",
    "- generic `JSON` format\n",
    "- collection of name-value pairs \n",
    "- name is a string; value can be a\n",
    "    - string: `{\"name\": \"pyrite\"}`\n",
    "    - number: `{\"charge\": -2}`\n",
    "    - list: `{\"name\": [\"Sc\", \"Co\", \"U\", \"Au\"]}`\n",
    "    - combos of the above: `{\"Cp_coeff\": {\"value\": [5, 10], \"units\": [\"J/mol*K\", \"J/mol\"}]`\n",
    "- `JSON` is **flexible** and therefore **widespread**"
   ]
  },
  {
   "cell_type": "code",
   "execution_count": null,
   "metadata": {
    "slideshow": {
     "slide_type": "skip"
    }
   },
   "outputs": [],
   "source": [
    "import uuid\n",
    "from IPython.display import display_javascript, display_html, display\n",
    "import json\n",
    "\n",
    "class RenderJSON(object):\n",
    "    def __init__(self, json_data):\n",
    "        if isinstance(json_data, dict):\n",
    "            self.json_str = json.dumps(json_data)\n",
    "        else:\n",
    "            self.json_str = json\n",
    "        self.uuid = str(uuid.uuid4())\n",
    "        \n",
    "    def _ipython_display_(self):\n",
    "        display_html('<div id=\"{}\" style=\"height: 600px; width:100%;\"></div>'.format(self.uuid),\n",
    "            raw=True\n",
    "        )\n",
    "        display_javascript(\"\"\"\n",
    "        require([\"https://rawgit.com/caldwell/renderjson/master/renderjson.js\"], function() {\n",
    "          renderjson.set_show_to_level(1)\n",
    "          document.getElementById('%s').appendChild(renderjson(%s))\n",
    "        });\n",
    "        \"\"\" % (self.uuid, self.json_str), raw=True)"
   ]
  },
  {
   "cell_type": "code",
   "execution_count": null,
   "metadata": {
    "scrolled": true,
    "slideshow": {
     "slide_type": "slide"
    }
   },
   "outputs": [],
   "source": [
    "RenderJSON(mines16)"
   ]
  },
  {
   "cell_type": "markdown",
   "metadata": {
    "slideshow": {
     "slide_type": "slide"
    }
   },
   "source": [
    "## Check the contents of the database (optional)"
   ]
  },
  {
   "cell_type": "code",
   "execution_count": null,
   "metadata": {
    "scrolled": true,
    "slideshow": {
     "slide_type": "subslide"
    }
   },
   "outputs": [],
   "source": [
    "substances = database.mapSubstances()\n",
    "print(substances.keys())"
   ]
  },
  {
   "cell_type": "markdown",
   "metadata": {
    "slideshow": {
     "slide_type": "slide"
    }
   },
   "source": [
    "## 3. Define and construct the chemical system"
   ]
  },
  {
   "cell_type": "code",
   "execution_count": null,
   "metadata": {
    "slideshow": {
     "slide_type": "subslide"
    }
   },
   "outputs": [],
   "source": [
    "# Define the chemical system\n",
    "editor = rkt.ChemicalEditor(database)\n",
    "\n",
    "editor.addAqueousPhaseWithElements([\n",
    "    'H', 'O', 'C', 'Na', 'Ca', 'Cl', 'S', 'Fe', 'Cu'])\n",
    "editor.addMineralPhase([\n",
    "    'Calcite', 'Anhydrite', 'Pyrite', 'Covellite', 'Chalcopyrite', 'Graphite'])\n",
    "\n",
    "# Construct the chemical system\n",
    "system = rkt.ChemicalSystem(editor)"
   ]
  },
  {
   "cell_type": "markdown",
   "metadata": {
    "slideshow": {
     "slide_type": "slide"
    }
   },
   "source": [
    "Below we'll define a few useful functions. `removeFluid` sets the amounts of the the species in the fluid phase to zero moles – in effect, \"removing\" the fluid. `removeSolid` does the same, except for solid phases. "
   ]
  },
  {
   "cell_type": "code",
   "execution_count": null,
   "metadata": {
    "slideshow": {
     "slide_type": "-"
    }
   },
   "outputs": [],
   "source": [
    "def removeFluid(state):\n",
    "    system = state.system()\n",
    "    idxs = system.indicesFluidSpecies()\n",
    "    for i in idxs:\n",
    "        state.setSpeciesAmount(i, 0.0)\n",
    "\n",
    "def removeSolid(state): \n",
    "    system = state.system()\n",
    "    idxs = system.indicesSolidSpecies()\n",
    "    for i in idxs:\n",
    "        state.setSpeciesAmount(i, 0.0)"
   ]
  },
  {
   "cell_type": "markdown",
   "metadata": {
    "slideshow": {
     "slide_type": "slide"
    }
   },
   "source": [
    "For convenience, we'll also define two variables, `T` and `P`, for temperature and pressure. We'll use these variables throughout the next few cells whenever we need to set the PT conditions. "
   ]
  },
  {
   "cell_type": "code",
   "execution_count": null,
   "metadata": {
    "slideshow": {
     "slide_type": "-"
    }
   },
   "outputs": [],
   "source": [
    "# set temperature and pressure\n",
    "T = 150 # [°C]\n",
    "P = rkt.waterSaturatedPressureWagnerPruss(T+273.15).val/100000 # [bar] saturated vapor pressure of water"
   ]
  },
  {
   "cell_type": "markdown",
   "metadata": {
    "slideshow": {
     "slide_type": "slide"
    }
   },
   "source": [
    "### Create ore fluid\n",
    "The fluids that form SSH Cu deposits are generally assumed to be oxidized chlorine-bearing brines derived either from the dissolution of evaporites or as a residual product of evaporation (i.e., bittern brines). We can simulate such an ore fluid by saturating a NaCl-bearing fluid with respect to anhydrite (e.g., $CaSO_{4(s)} \\leftrightarrow Ca^{+2}_{(aq)} + SO4^{-2}_{(aq)}$) and then having it \"scavenge\" Cu (i.e., add $CuCl_{2(aq)}$). "
   ]
  },
  {
   "cell_type": "code",
   "execution_count": null,
   "metadata": {
    "slideshow": {
     "slide_type": "slide"
    }
   },
   "outputs": [],
   "source": [
    "state_fluid = rkt.ChemicalState(system)\n",
    "\n",
    "# set temperature and pressure\n",
    "state_fluid.setTemperature(T, \"celsius\")\n",
    "state_fluid.setPressure(P, \"bar\")\n",
    "\n",
    "# create fluid\n",
    "state_fluid.setSpeciesMass(\"H2O@\", 10, \"kg\")\n",
    "state_fluid.setSpeciesAmount(\"NaCl@\", 0.5, \"mol\")\n",
    "state_fluid.setSpeciesMass(\"Anhydrite\", 100, \"kg\")\n",
    "state_fluid.setSpeciesMass(\"CuCl2@\", 1.5e-2, \"kg\")\n",
    "\n",
    "# equilibrate solids and fluid\n",
    "rkt.equilibrate(state_fluid)\n",
    "\n",
    "# \"migrate\" fluid from source\n",
    "removeSolid(state_fluid)"
   ]
  },
  {
   "cell_type": "markdown",
   "metadata": {
    "slideshow": {
     "slide_type": "slide"
    }
   },
   "source": [
    "### Create \"sink\"\n",
    "SSH Cu deposits often co-occur with strong lithological redox gradients. In this model, we'll use a graphite and pyrite-bearing limestone to reduce the fluid and induce the precipitation of Cu ore. \n",
    "\n",
    "To represent this process, we'll use a **flush model**. An aliquot of the ore fluid will equilibrate with an aliquot of the limestone. After equilibration, the \"spent\" fluid will be removed from the system and the process will be repeated."
   ]
  },
  {
   "cell_type": "code",
   "execution_count": null,
   "metadata": {
    "scrolled": false,
    "slideshow": {
     "slide_type": "slide"
    }
   },
   "outputs": [],
   "source": [
    "# initialize solid \n",
    "state_sink = rkt.ChemicalState(system)\n",
    "\n",
    "# set temperature and pressure\n",
    "state_sink.setTemperature(T, \"celsius\")\n",
    "state_sink.setPressure(P, \"bar\")\n",
    "\n",
    "# create \"rock\"\n",
    "state_sink.setSpeciesMass(\"Calcite\", 97.5, \"kg\")\n",
    "state_sink.setSpeciesMass(\"Pyrite\", 2, \"kg\")\n",
    "state_sink.setSpeciesMass(\"Graphite\", 0.5, \"kg\")\n",
    "\n",
    "# initialize \"amount\" arrays \n",
    "pyrite = np.zeros(80)\n",
    "graphite = np.zeros(80)\n",
    "covellite = np.zeros(80)\n",
    "chalcopyrite = np.zeros(80)\n",
    "\n",
    "for i in range(80):\n",
    "\n",
    "    problem = rkt.EquilibriumProblem(system)\n",
    "    problem.add(state_sink) # add composition for our rock\n",
    "    problem.add(state_fluid) # add composition for our fluid\n",
    "\n",
    "    state_sink = rkt.equilibrate(problem)\n",
    "\n",
    "    removeFluid(state_sink)\n",
    "    \n",
    "    # save the amounts of the minerals of interest\n",
    "    pyrite[i] = state_sink.speciesAmount(\"Pyrite\")\n",
    "    graphite[i] = state_sink.speciesAmount(\"Graphite\")\n",
    "    covellite[i] = state_sink.speciesAmount(\"Covellite\")\n",
    "    chalcopyrite[i] = state_sink.speciesAmount(\"Chalcopyrite\")"
   ]
  },
  {
   "cell_type": "code",
   "execution_count": null,
   "metadata": {
    "slideshow": {
     "slide_type": "slide"
    }
   },
   "outputs": [],
   "source": [
    "fig, ax  = plt.subplots(figsize=[12,8]) \n",
    "\n",
    "ax.plot(np.arange(i+1), covellite)\n",
    "ax.plot(np.arange(i+1), chalcopyrite)\n",
    "ax.plot(np.arange(i+1), pyrite)\n",
    "ax.plot(np.arange(i+1), graphite)\n",
    "\n",
    "ax.legend([\"covellite\", \"chalcopyrite\", \"pyrite\", \"graphite\"])\n",
    "ax.set_xlabel('flush iterations')\n",
    "ax.set_ylabel('amount of mineral (mol)')"
   ]
  },
  {
   "cell_type": "code",
   "execution_count": null,
   "metadata": {},
   "outputs": [],
   "source": []
  }
 ],
 "metadata": {
  "celltoolbar": "Slideshow",
  "kernelspec": {
   "display_name": "Python 3",
   "language": "python",
   "name": "python3"
  },
  "language_info": {
   "codemirror_mode": {
    "name": "ipython",
    "version": 3
   },
   "file_extension": ".py",
   "mimetype": "text/x-python",
   "name": "python",
   "nbconvert_exporter": "python",
   "pygments_lexer": "ipython3",
   "version": "3.8.5"
  },
  "rise": {
   "scroll": true
  },
  "toc": {
   "base_numbering": 1,
   "nav_menu": {},
   "number_sections": true,
   "sideBar": true,
   "skip_h1_title": false,
   "title_cell": "Table of Contents",
   "title_sidebar": "Contents",
   "toc_cell": false,
   "toc_position": {},
   "toc_section_display": true,
   "toc_window_display": false
  }
 },
 "nbformat": 4,
 "nbformat_minor": 4
}
