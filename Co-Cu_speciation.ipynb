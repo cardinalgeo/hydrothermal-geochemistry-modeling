{
 "cells": [
  {
   "cell_type": "markdown",
   "metadata": {},
   "source": [
    "# Aqueous speciation in the system Cu-Co-S-Cl-Na\n",
    "In this notebook, I determine the speciation of Cu and Co-bearing complexes in a saline, S-bearing aqueous solution under hydrothermal conditions. "
   ]
  },
  {
   "cell_type": "markdown",
   "metadata": {},
   "source": [
    "## 1. Import Libraries"
   ]
  },
  {
   "cell_type": "code",
   "execution_count": 1,
   "metadata": {},
   "outputs": [],
   "source": [
    "import numpy as np\n",
    "import math \n",
    "import thermofun as fun\n",
    "import reaktoro as rkt"
   ]
  },
  {
   "cell_type": "markdown",
   "metadata": {},
   "source": [
    "## 2. Initialize a thermodynamic database; check the contents of the database"
   ]
  },
  {
   "cell_type": "code",
   "execution_count": 2,
   "metadata": {},
   "outputs": [
    {
     "name": "stdout",
     "output_type": "stream",
     "text": [
      "dict_keys(['Ag', 'Al', 'Ar', 'As', 'Au', 'B', 'Ba', 'Be', 'Bi', 'Br', 'C', 'Ca', 'Cd', 'Ce', 'Cl', 'Co', 'Cr', 'Cs', 'Cu', 'Dy', 'Er', 'Eu', 'F', 'Fe', 'Ga', 'Gd', 'H', 'He', 'Hf', 'Hg', 'Ho', 'I', 'In', 'K', 'Kr', 'La', 'Li', 'Lu', 'Mg', 'Mn', 'Mo', 'N', 'Na', 'Nb', 'Nd', 'Ne', 'Ni', 'Nia', 'O', 'P', 'Pb', 'Pd', 'Pr', 'Pt', 'Ra', 'Rb', 'Re', 'Rh', 'Rn', 'Ru', 'S', 'Sb', 'Sc', 'Se', 'Si', 'Sm', 'Sn', 'Sr', 'Tb', 'Tc', 'Th', 'Ti', 'Tl', 'Tm', 'U', 'V', 'W', 'Xe', 'Y', 'Yb', 'Zn', 'Zr', 'Zz'])\n",
      "dict_keys(['Ce(SO4)2-', 'CeSO4+', 'Dy(SO4)2-', 'DySO4+', 'Er(SO4)2-', 'ErSO4+', 'Eu(SO4)2-', 'EuSO4+', 'FeSO4', 'Gd(SO4)2-', 'GdSO4+', 'H2WO4', 'Ho(SO4)2-', 'HoSO4+', 'KHWO4', 'KWO4-', 'La(SO4)2-', 'LaSO4+', 'Lu(SO4)2-', 'LuSO4+', 'MnCl2', 'MnHCO3+', 'NaCO3-', 'NaHCO3', 'NaHWO4', 'NaWO4-', 'Nd(OH)2+', 'Nd(OH)3', 'Nd(SO4)2-', 'NdOH++', 'NdSO4+', 'Pr(SO4)2-', 'PrSO4+', 'Sm(SO4)2-', 'SmSO4+', 'Sn(HCO3)2', 'Sn(HS)2', 'Sn(OH)2', 'Sn(OH)2++', 'Sn(OH)3+', 'Sn(OH)3-', 'Sn(OH)4', 'Sn(OH)4--', 'Sn(OH)5-', 'Sn(OH)6--', 'SnCO3', 'SnCl+', 'SnCl+++', 'SnCl2', 'SnCl2++', 'SnCl3+', 'SnCl3-', 'SnCl4', 'SnCl5-', 'SnF+', 'SnF+++', 'SnF2', 'SnF2++', 'SnF3+', 'SnF3-', 'SnF4', 'SnF5-', 'SnHCO3+', 'SnHS+', 'SnOH+', 'SnOH+++', 'SnSO4', 'Tb(SO4)2-', 'TbSO4+', 'Tm(SO4)2-', 'TmSO4+', 'UO2(CO3)2--', 'UO2(CO3)3----', 'UO2(SO4)2--', 'UO2CO3', 'UO2Cl+', 'UO2SO4', 'Yb(SO4)2-', 'YbSO4+', 'Zn(HS)2'])\n",
      "dict_keys(['Acmite', 'Actinolite-Fe', 'Ag(CO3)2---', 'Ag(HS)2-', 'Ag(OH)2-', 'Ag+', 'Ag++', 'AgCO3-', 'AgCl', 'AgCl(H2O),gas', 'AgCl(H2O)2,gas', 'AgCl,gas', 'AgCl2-', 'AgCl3--', 'AgCl4---', 'AgF', 'AgHS', 'AgNO3', 'AgOH', 'Akermanite', 'Al(OH)2+', 'Al(OH)2F', 'Al(OH)2F2-', 'Al(OH)3', 'Al(OH)4-', 'Al+++', 'AlF++', 'AlF2+', 'AlF3', 'AlF4-', 'AlH3SiO4++', 'AlOH++', 'AlOHF2', 'AlSO4+', 'Al_sulfate', 'Alabandite', 'Almandine', 'Aluminum', 'Alunite', 'Alunite-Na', 'Amesite', 'Analbite', 'Analcite', 'Anatase', 'Andalusite', 'Andradite', 'Anglesite', 'Anhydrite', 'Ankerite', 'Annite', 'Anorthite', 'Anthophyll-Fe', 'Anthophyll-Mg', 'Antigorite', 'Antimony', 'Apatite-F', 'Apatite-OH', 'Ar', 'Aragonite', 'Arcanite', 'Arsenic', 'Arsenolite', 'Arsenopyrite', 'As2S3', 'As2S4--', 'As4S7--', 'AsO3---', 'AsO4---', 'Au(HS)2-', 'Au(OH)2-', 'Au+', 'Au+++', 'Au0.1Ag0.9', 'Au0.2Ag0.8', 'Au0.3Ag0.7', 'Au0.4Ag0.6', 'Au0.5Ag0.5', 'Au0.6Ag0.4', 'Au0.7Ag0.3', 'Au0.8Ag0.2', 'Au0.9Ag0.1', 'AuCl', 'AuCl(H2O)3,gas', 'AuCl(H2O)5,gas', 'AuCl,gas', 'AuCl2-', 'AuCl3--', 'AuCl4-', 'AuHS', 'AuOH', 'AuS(H2O)3,gas', 'AuS(H2O)4,gas', 'AuS(H2S),gas', 'AuS(H2S)3,gas', 'AuS,gas', 'B(OH)3', 'B(OH)4-', 'B2O(OH)5-', 'B3O3(OH)4-', 'B4O5(OH)4--', 'BF4-', 'Ba++', 'BaCO3', 'BaCl+', 'BaF+', 'BaHCO3+', 'BaOH+', 'Ba_oxide', 'Baddeleyite', 'Barite', 'Be++', 'BeCl+', 'BeCl2', 'BeF+', 'BeF2', 'BeF3-', 'BeF4--', 'BeO', 'BeO2--', 'BeOH+', 'Berlinite', 'Berndtite', 'Berthierite', 'Bertrandite', 'Beryl', 'Beryllium', 'Bi+++', 'BiO+', 'BiO2-', 'BiOH++', 'Biotite-Mn', 'Bismite', 'Bismuth', 'Bismuthinite', 'Bixbyite', 'Boehmite', 'Boron', 'Br-', 'Br3-', 'BrO-', 'BrO3-', 'BrO4-', 'Braunite', 'Bromargyrite', 'Bromellite', 'Brucite', 'C2H6', 'CH3COO-', 'CH3COOH', 'CH4', 'CH4,gas', 'CN-', 'CO', 'CO,gas', 'CO2', 'CO2,gas', 'CO3--', 'Ca++', 'CaCO3', 'CaCl+', 'CaCl2', 'CaF+', 'CaHCO3+', 'CaHSiO3+', 'CaOH+', 'CaSO4', 'Cadmium', 'Calcite', 'Calcium', 'Carpholite-Fe', 'Carpholite-Mg', 'Cassiterite', 'Cattierite', 'Cd++', 'CdCl+', 'CdCl2', 'CdCl3-', 'CdCl4--', 'CdF+', 'CdF2', 'CdO', 'CdO2--', 'CdOH+', 'Ce(SO4)2-', 'Ce++', 'Ce+++', 'Ce++++', 'CeBr++', 'CeCO3+', 'CeCl++', 'CeCl2+', 'CeClO4++', 'CeF++', 'CeH2PO4++', 'CeHCO3++', 'CeIO3++', 'CeNO3++', 'CeO+', 'CeO2-', 'CeOH++', 'CeOOH', 'CePO4', 'CeSO4+', 'Celadonite', 'Celadonite-Fe', 'Celestite', 'Cerianite', 'Cerium', 'Cerussite', 'Chalcocyanite', 'Chalcostibite', 'Chiolite', 'Chlorargyrite', 'Chlorite-Mn', 'Chloritoid-Fe', 'Chloritoid-Mg', 'Chloritoid-Mn', 'Chlormagnesite', 'Chromite', 'Chromium', 'Chrysoberyl', 'Chrysotile', 'Cinnabar', 'Cl-', 'Cl2,gas', 'ClO-', 'ClO2-', 'ClO3-', 'ClO4-', 'Claudetite', 'Clinochlore', 'Clinohumite', 'Clinozoisite', 'Co++', 'Co+++', 'Co-pentlandite', 'Co3O4,s', 'CoCl+', 'CoCl4--', 'CoF+', 'CoO', 'CoO,s', 'CoO2--', 'CoOH+', 'CoOH++', 'Cobalt', 'Coesite', 'Cohenite', 'Cooperite', 'Copper', 'Cordierite-Fe', 'Cordierite-Mg', 'Cordierite-Mn', 'Cordierite-OH', 'Corundum', 'Cotunnite', 'Covellite', 'Cr++', 'Cr+++', 'Cr2O7--', 'CrO+', 'CrO2-', 'CrO4--', 'CrOH++', 'Cristobalite', 'Cs+', 'CsBr', 'CsCl', 'CsI', 'CsOH', 'Cu(HS)2-', 'Cu(OH)2-', 'Cu+', 'Cu++', 'Cu3Cl3,gas', 'CuCl', 'CuCl(H2O)4,gas', 'CuCl(H2O)5,gas', 'CuCl(H2O)6,gas', 'CuCl(H2O)7,gas', 'CuCl(H2O)8,gas', 'CuCl(H2O)9,gas', 'CuCl(wt)10,gas', 'CuCl(wt)11,gas', 'CuCl(wt)12,gas', 'CuCl(wt)13,gas', 'CuCl(wt)14,gas', 'CuCl+', 'CuCl,gas', 'CuCl2', 'CuCl2(wt)3,gas', 'CuCl2-', 'CuCl2H-wt,gas', 'CuCl3-', 'CuCl3--', 'CuCl4--', 'CuF+', 'CuHS', 'CuO', 'CuO2--', 'CuOH', 'CuOH+', 'Cummingtonite', 'Cuprite', 'Danburite', 'Daphnite', 'Datolite', 'Dawsonite', 'Deerite', 'Diamond', 'Diaspore', 'Dickite', 'Diopside', 'Dolomite', 'Dumortierite', 'Dy(SO4)2-', 'Dy++', 'Dy+++', 'Dy++++', 'DyCO3+', 'DyCl++', 'DyCl2+', 'DyF++', 'DyH2PO4++', 'DyHCO3++', 'DyNO3++', 'DyO+', 'DyO2-', 'DyOH++', 'DyOOH', 'DySO4+', 'Eastonite', 'Enargite', 'Enstatite', 'Epidote', 'Epidote-Fe', 'Er(SO4)2-', 'Er++', 'Er+++', 'Er++++', 'ErCO3+', 'ErCl++', 'ErCl2+', 'ErF++', 'ErH2PO4++', 'ErHCO3++', 'ErNO3++', 'ErO+', 'ErO2-', 'ErOH++', 'ErOOH', 'ErSO4+', 'Eskolaite', 'Eu(SO4)2-', 'Eu++', 'Eu+++', 'Eu++++', 'EuCO3+', 'EuCl++', 'EuCl2', 'EuCl2+', 'EuCl3-', 'EuCl4--', 'EuF+', 'EuF++', 'EuF2', 'EuF3-', 'EuF4--', 'EuH2PO4++', 'EuHCO3++', 'EuNO3++', 'EuO+', 'EuO2-', 'EuOH++', 'EuOOH', 'EuPO4', 'EuSO4+', 'Euclase', 'Eucryptite', 'F-', 'F2,gas', 'Fayalite', 'Fe(CH3COO)+', 'Fe(OH)4-', 'Fe++', 'Fe+++', 'Fe2_hydroxide', 'Fe2_oxide', 'Fe3_hydroxide', 'Fe3_sulfate', 'FeCl+', 'FeCl++', 'FeCl2', 'FeF+', 'FeF++', 'FeO', 'FeO+', 'FeOH+', 'FeOH++', 'FeSO4', 'Ferberite', 'Ferberite2', 'Ferrosilite', 'Fluorite', 'Forsterite', 'Franklinite', 'Ga(OH)++', 'Ga(OH)2+', 'Ga(OH)3', 'Ga(OH)4-', 'Ga+++', 'Galena', 'Gd(SO4)2-', 'Gd++', 'Gd+++', 'Gd++++', 'GdCO3+', 'GdCl++', 'GdCl2+', 'GdF++', 'GdH2PO4++', 'GdHCO3++', 'GdNO3++', 'GdO+', 'GdO2-', 'GdOH++', 'GdOOH', 'GdPO4', 'GdSO4+', 'Ge(OH)4', 'GeO(OH)3-', 'Gedrite', 'Gehlenite', 'Geikielite', 'Germanium', 'Gibbsite', 'Glaukophane-Fe', 'Glaukophane-Mg', 'Goethite', 'Gold', 'Graphite', 'Greenockite', 'Grossular', 'Grunerite', 'Gypsum', 'H+', 'H2', 'H2,gas', 'H2AsO3-', 'H2AsO4-', 'H2MoO4,gas', 'H2N2O2', 'H2O,gas', 'H2O2', 'H2O@', 'H2P2O7--', 'H2PO2-', 'H2PO3-', 'H2PO4-', 'H2S', 'H2S,gas', 'H2S2O3', 'H2S2O4', 'H2Sb2S4', 'H2SeO3', 'H2VO4-', 'H2WO4', 'H3AsO3', 'H3AsO4', 'H3P2O7-', 'H3PO2', 'H3PO3', 'H3PO4', 'H3VO4', 'H4P2O7', 'HAs2S4-', 'HAsO3--', 'HAsO4--', 'HBeO2-', 'HBiO2', 'HBr', 'HBrO', 'HCN', 'HCO3-', 'HCOO-', 'HCOOH', 'HCdO2-', 'HCl', 'HCl,gas', 'HClO', 'HClO2', 'HCoO2-', 'HCrO2', 'HCrO4-', 'HCuO2-', 'HF', 'HF,gas', 'HF2-', 'HFeO2', 'HFeO2-', 'HHfO2+', 'HHfO3-', 'HHgO2-', 'HIO', 'HIO3', 'HInO2', 'HMnO2-', 'HMoO4-', 'HN2O2-', 'HNO2', 'HNO3', 'HNbO3', 'HNiO2-', 'HO2-', 'HP2O7---', 'HPO3--', 'HPO4--', 'HPbO2-', 'HS-', 'HS2O3-', 'HS2O4-', 'HSO3-', 'HSO4-', 'HSO5-', 'HSb2S4-', 'HScO2', 'HSe-', 'HSeO3-', 'HSeO4-', 'HSiO3-', 'HTlO2', 'HUO2', 'HUO2+', 'HUO3-', 'HUO4-', 'HVO4--', 'HWO4-', 'HYO2', 'HZnO2-', 'HZrO2+', 'HZrO3-', 'Hafnium', 'Halite', 'Halloysite', 'Haturite', 'Hausmannite', 'He', 'Heazlewoodite', 'Hedenbergite', 'Hercynite', 'Herzenbergite', 'Heulandite', 'Hf++++', 'HfO++', 'HfO2', 'HfOH+++', 'Hg++', 'Hg2++', 'HgCl+', 'HgCl2', 'HgCl3-', 'HgCl4--', 'HgF+', 'HgO', 'HgOH+', 'Ho(SO4)2-', 'Ho++', 'Ho+++', 'Ho++++', 'HoCO3+', 'HoCl++', 'HoCl2+', 'HoF++', 'HoH2PO4++', 'HoHCO3++', 'HoNO3++', 'HoO+', 'HoO2-', 'HoOH++', 'HoOOH', 'HoSO4+', 'Hubnerite', 'Hydrophilite', 'I-', 'I3-', 'IO-', 'IO3-', 'IO4-', 'Illite', 'Ilmenite', 'Ilvaite', 'In+++', 'InCl++', 'InF++', 'InO+', 'InO2-', 'InOH++', 'Iodargyrite', 'Iridium', 'Jadeite', 'Jarosite', 'Jarosite-Na', 'K+', 'K-Al_sulfate', 'KAlO2', 'KBr', 'KCl', 'KHSO4', 'KHWO4', 'KI', 'KOH', 'KSO4-', 'KWO4-', 'K_oxide', 'Kalsilite', 'Kaolinite', 'Karelianite', 'Kyanite', 'La(SO4)2-', 'La++', 'La+++', 'LaCO3+', 'LaCl++', 'LaCl2+', 'LaF++', 'LaF3', 'LaH2PO4++', 'LaHCO3++', 'LaNO3++', 'LaO+', 'LaO2-', 'LaOH++', 'LaOOH', 'LaPO4', 'LaSO4+', 'Langbeinite', 'Lanthanum', 'Larnite', 'Laumontite', 'Laurite', 'Lawrencite', 'Lawsonite', 'Lead', 'Leonhardite', 'Li+', 'LiCl', 'LiOH', 'Li_oxide', 'Liebenbergite', 'Lime', 'Litharge', 'Lithium', 'Loellingite', 'Lu(SO4)2-', 'Lu+++', 'Lu++++', 'LuCO3+', 'LuCl++', 'LuCl2+', 'LuF++', 'LuH2PO4++', 'LuHCO3++', 'LuNO3++', 'LuO+', 'LuO2-', 'LuOH++', 'LuOOH', 'LuSO4+', 'Magnesite', 'Magnesium', 'Manganese', 'Manganosite', 'Marcasite', 'Margarite', 'Marialite', 'Marshite', 'Mascagnite', 'Massicot', 'Meionite', 'Mercury', 'Merwinite', 'Mg++', 'Mg-chromite', 'MgCO3', 'MgCl+', 'MgF+', 'MgHCO3+', 'MgHSiO3+', 'MgOH+', 'MgSO4', 'Microcline', 'Millerite', 'Minium', 'Mn++', 'Mn+++', 'Mn2_sulfate', 'MnCl+', 'MnCl2', 'MnF+', 'MnHCO3+', 'MnO', 'MnO2--', 'MnO4-', 'MnO4--', 'MnOH+', 'MnSO4', 'MoO2,s', 'MoO2Cl2,gas', 'MoO3(H2O),gas', 'MoO3(H2O)3,gas', 'MoO3gas-320C', 'MoO4--', 'Molybdenite', 'Molybdenum', 'Molybdite', 'Molysite', 'Monticellite', 'Montmorill-K', 'Montmorill-Mg', 'Montmorill-Na', 'Montroydite', 'Mullite', 'Muscovite', 'N2', 'N2,gas', 'N2H5+', 'N2H6++', 'N2O2--', 'NH3', 'NH3,gas', 'NH4+', 'NO2,gas', 'NO2-', 'NO3-', 'Na+', 'NaAl(OH)2F2', 'NaAl(OH)3F', 'NaAl(OH)4', 'NaB(OH)4', 'NaBr', 'NaCO3-', 'NaCl', 'NaF', 'NaHCO3', 'NaHS', 'NaHSiO3', 'NaHWO4', 'NaI', 'NaOH', 'NaSO4-', 'NaWO4-', 'Na_oxide', 'Nb2O5', 'NbO3-', 'Nd(OH)2+', 'Nd(OH)3', 'Nd(OH)3     /', 'Nd(SO4)2-', 'Nd++', 'Nd+++', 'Nd++++', 'NdCO3+', 'NdCl++', 'NdCl2+', 'NdF++', 'NdF3', 'NdH2PO4++', 'NdHCO3++', 'NdNO3++', 'NdO+', 'NdO2-', 'NdOH++', 'NdOOH', 'NdPO4', 'NdSO4+', 'Ni++', 'NiCl+', 'NiF+', 'NiO', 'NiO2--', 'NiOH+', 'Ni_chloride', 'Ni_sulfate', 'Niobium', 'Nukundamite', 'O', 'O2', 'O2,gas', 'OCN-', 'OH-', 'Orpigment', 'Osmium', 'Osumilite-Fe', 'Osumilite-Mg', 'P2O7----', 'PO4---', 'Palladium', 'Paragonite', 'Pargasite', 'Pb(HS)2', 'Pb(HS)3-', 'Pb++', 'PbCl+', 'PbCl2', 'PbCl3-', 'PbCl4--', 'PbF+', 'PbF2', 'PbO', 'PbOH+', 'Pd(SO4)2--', 'Pd(SO4)3----', 'Pd++', 'Pd4S,s', 'PdCl+', 'PdCl2', 'PdCl3-', 'PdCl4--', 'PdO', 'PdOH+', 'PdS2,s', 'PdSO4', 'Pd_hydroxide', 'Pd_oxide', 'Periclase', 'Perovskite', 'Petalite', 'Phenakite', 'Phlogopite', 'Phlogopite-F', 'Phlogopite-Na', 'Phosphorous', 'Platinum', 'Plattnerite', 'Pollucite', 'Portlandite', 'Potassium', 'Powellite', 'Pr(SO4)2-', 'Pr++', 'Pr+++', 'Pr++++', 'PrCO3+', 'PrCl++', 'PrCl2+', 'PrF++', 'PrH2PO4++', 'PrHCO3++', 'PrNO3++', 'PrO+', 'PrO2-', 'PrOH++', 'PrOOH', 'PrPO4', 'PrSO4+', 'Prehnite', 'Pt(SO4)2--', 'Pt(SO4)3----', 'Pt++', 'PtCl+', 'PtCl2', 'PtCl3-', 'PtCl4--', 'PtO', 'PtOH+', 'PtS2,s', 'PtSO4', 'Pumpellyite', 'Pyrite', 'Pyrolusite', 'Pyrope', 'Pyrophanite', 'Pyrophyllite', 'Pyroxene-Ca', 'Pyroxene-Mg', 'Pyroxmangite', 'R+', 'Rankinite', 'Rb+', 'RbBr', 'RbCl', 'RbF', 'RbI', 'RbOH', 'ReO4-', 'Realgar', 'Rh(SO4)2-', 'Rh(SO4)2--', 'Rh(SO4)3---', 'Rh(SO4)3----', 'Rh++', 'Rh+++', 'Rh3_oxide', 'RhCl+', 'RhCl++', 'RhCl2', 'RhCl2+', 'RhCl3', 'RhCl3-', 'RhCl4-', 'RhCl4--', 'RhO', 'RhO+', 'RhOH+', 'RhOH++', 'RhSO4', 'RhSO4+', 'Rhenium', 'Rhodium', 'Rhodochrosite', 'Rhodonite', 'Riebeckite', 'Rosenhahnite', 'Ru(SO4)2-', 'Ru(SO4)2--', 'Ru(SO4)3---', 'Ru(SO4)3----', 'Ru++', 'Ru+++', 'Ru4_oxide', 'RuCl+', 'RuCl++', 'RuCl2', 'RuCl2+', 'RuCl3', 'RuCl3-', 'RuCl4-', 'RuCl4--', 'RuCl5--', 'RuCl6---', 'RuO', 'RuO+', 'RuO4--', 'RuOH+', 'RuOH++', 'RuSO4', 'RuSO4+', 'Ruthenium', 'Rutile', 'S2,gas', 'S2--', 'S2O3--', 'S2O4--', 'S2O5--', 'S2O6--', 'S2O8--', 'S3--', 'S3O6--', 'S4--', 'S4O6--', 'S5--', 'S5O6--', 'SCN-', 'SO2', 'SO2,gas', 'SO3,gas', 'SO3--', 'SO4--', 'Sanidine', 'Sapphirine-Fe', 'Sapphirine-Mg', 'Sb(OH)3', 'Sb(OH)4-', 'Sb2(OH)6', 'Sb2S4--', 'Sc+++', 'ScO+', 'ScO2-', 'ScOH++', 'Scacchite', 'Scandium', 'Scheelite', 'Scheelite2', 'Se2,gas', 'SeCN-', 'SeO3--', 'SeO4--', 'Sellaite', 'Senarmontite', 'SiF6--', 'SiO2', 'Siderite', 'Silicon', 'Sillimanite', 'Silver', 'Sm(SO4)2-', 'Sm++', 'Sm+++', 'Sm++++', 'SmCO3+', 'SmCl++', 'SmCl2+', 'SmF++', 'SmH2PO4++', 'SmHCO3++', 'SmNO3++', 'SmO+', 'SmO2-', 'SmOH++', 'SmOOH', 'SmPO4', 'SmSO4+', 'Smithsonite', 'Sn(HCO3)2', 'Sn(HS)2', 'Sn(OH)2', 'Sn(OH)2++', 'Sn(OH)3+', 'Sn(OH)3-', 'Sn(OH)4', 'Sn(OH)4--', 'Sn(OH)5-', 'Sn(OH)6--', 'Sn++', 'Sn++++', 'SnCO3', 'SnCl+', 'SnCl+++', 'SnCl2', 'SnCl2++', 'SnCl3+', 'SnCl3-', 'SnCl4', 'SnCl5-', 'SnF+', 'SnF+++', 'SnF2', 'SnF2++', 'SnF3+', 'SnF3-', 'SnF4', 'SnF5-', 'SnHCO3+', 'SnHS+', 'SnOH+', 'SnOH+++', 'SnSO4', 'Sodalite', 'Sodium', 'Spessartine', 'Sphalerite', 'Spinel', 'Spodumene', 'Spurrite', 'Sr++', 'SrCO3', 'SrCl+', 'SrF+', 'SrHCO3+', 'SrOH+', 'Sr_oxide', 'Staurolite-Fe', 'Staurolite-Mg', 'Staurolite-Mn', 'Stibnite', 'Stilbite', 'Stishovite', 'Strontianite', 'Strontium', 'Sudoite-Fe', 'Sudoite-Mg', 'Sylvite', 'Talc-Al', 'Talc-Fe', 'Talc-Mg', 'Tantalum', 'Tb(SO4)2-', 'Tb++', 'Tb+++', 'Tb++++', 'TbCO3+', 'TbCl++', 'TbCl2+', 'TbF++', 'TbH2PO4++', 'TbHCO3++', 'TbNO3++', 'TbO+', 'TbO2-', 'TbOH++', 'TbOOH', 'TbSO4+', 'Te2,gas', 'Tellurium', 'Tennantite-Fe', 'Tennantite-Zn', 'Tenorite', 'Tephroite', 'Tetrahedr-Fe', 'Tetrahedr-Zn', 'Th++++', 'Thallium', 'Thenardite', 'Thermonatrite', 'Thorianite', 'Thorium', 'Ti(OH)4', 'Tilleyite', 'Tin', 'Titanite', 'Titanium', 'Tl+', 'Tl+++', 'TlCl', 'TlCl++', 'TlF', 'TlO+', 'TlO2-', 'TlOH', 'TlOH++', 'Tm(SO4)2-', 'Tm++', 'Tm+++', 'Tm++++', 'TmCO3+', 'TmCl++', 'TmCl2+', 'TmF++', 'TmH2PO4++', 'TmHCO3++', 'TmNO3++', 'TmO+', 'TmO2-', 'TmOH++', 'TmOOH', 'TmSO4+', 'Topaz-F', 'Topaz-OH', 'Tremolite', 'Trevorite', 'Tridymite', 'Tschermakite', 'Tungsten', 'Tungstenite', 'U+++', 'U++++', 'UO+', 'UO++', 'UO2', 'UO2(CO3)2--', 'UO2(CO3)3----', 'UO2(SO4)2--', 'UO2+', 'UO2++', 'UO2-', 'UO2CO3', 'UO2Cl+', 'UO2OH', 'UO2OH+', 'UO2SO4', 'UO3', 'UO3-', 'UO4--', 'UOH++', 'UOH+++', 'Ulvospinel', 'Uraninite', 'Uranium', 'V++', 'V+++', 'VO+', 'VO++', 'VO2+', 'VO4---', 'VOH+', 'VOH++', 'VOOH+', 'Valentinite', 'Vanadium', 'Vesuvianite', 'Villiaumite', 'Vysotskite', 'W4_oxide', 'WO4--', 'Wairakite', 'Whitlockite', 'Witherite', 'Wollastonite', 'Wurtzite', 'Wustite', 'Y+++', 'YO+', 'YO2-', 'YOH++', 'Yb(SO4)2-', 'Yb++', 'Yb+++', 'Yb++++', 'YbCO3+', 'YbCl++', 'YbCl2+', 'YbF++', 'YbH2PO4++', 'YbHCO3++', 'YbNO3++', 'YbO+', 'YbO2-', 'YbOH++', 'YbOOH', 'YbSO4+', 'Yttrium', 'Zinc', 'Zincite', 'Zinkosite', 'Zircon', 'Zirconium', 'Zn(HS)2', 'Zn++', 'ZnCl+', 'ZnCl2', 'ZnCl3-', 'ZnCl4--', 'ZnF+', 'ZnO', 'ZnO2--', 'ZnOH+', 'Zoisite', 'Zr++++', 'ZrO++', 'ZrO2', 'ZrOH+++', 'artinite', 'azurite', 'cattierite', 'chalcedony', 'cinnabar', 'greenalite', 'huntite', 'hydromagnesite', 'linnaeite', 'malachite', 'metacinnabar', 'romarchite', 'sepiolite', 'silica (am)'])\n"
     ]
    }
   ],
   "source": [
    "#database = fun.Database('./databases/ThermoFun_db/mines16-thermofun.json')\n",
    "#database = fun.Database('./databases/Co_Cu_aq_speciation.json')\n",
    "database = fun.Database('./databases/Willy_ThermoHub_db.json')\n",
    "\n",
    "elements = database.mapElements()\n",
    "print(elements.keys())\n",
    "reactions = database.mapReactions()\n",
    "print(reactions.keys())\n",
    "substances = database.mapSubstances()\n",
    "print(substances.keys())\n",
    "engine = fun.ThermoEngine(database)\n"
   ]
  },
  {
   "cell_type": "markdown",
   "metadata": {},
   "source": [
    "## 3. Set temperature and pressure conditions"
   ]
  },
  {
   "cell_type": "code",
   "execution_count": 3,
   "metadata": {},
   "outputs": [],
   "source": [
    "T = 200 + 273.15 # [K]\n",
    "P = rkt.waterSaturatedPressureWagnerPruss(T).val/100000 # [bar] saturated water vapor pressure"
   ]
  },
  {
   "cell_type": "markdown",
   "metadata": {},
   "source": [
    "## 4. Set pH and chlorinity conditions"
   ]
  },
  {
   "cell_type": "code",
   "execution_count": 4,
   "metadata": {},
   "outputs": [],
   "source": [
    "# Target pH \n",
    "pH = 3\n",
    "# Target chlorinity\n",
    "c_Cl = 1 # [mol*kg^-1]"
   ]
  },
  {
   "cell_type": "markdown",
   "metadata": {},
   "source": [
    "## 5. Define and construct the chemical system"
   ]
  },
  {
   "cell_type": "code",
   "execution_count": 5,
   "metadata": {},
   "outputs": [
    {
     "ename": "RuntimeError",
     "evalue": "\n********************************************************************\n*** Error: Fromula Parser\n*** Reason:  A symbol of element expected here!\n*** Location: ...80702/work/ThermoFun/Common/formulaparser.cpp:294\n********************************************************************\n\n",
     "output_type": "error",
     "traceback": [
      "\u001b[0;31m---------------------------------------------------------------------------\u001b[0m",
      "\u001b[0;31mRuntimeError\u001b[0m                              Traceback (most recent call last)",
      "\u001b[0;32m<ipython-input-5-d3f71678d562>\u001b[0m in \u001b[0;36m<module>\u001b[0;34m\u001b[0m\n\u001b[1;32m      1\u001b[0m \u001b[0;31m# Define the chemical system\u001b[0m\u001b[0;34m\u001b[0m\u001b[0;34m\u001b[0m\u001b[0;34m\u001b[0m\u001b[0m\n\u001b[0;32m----> 2\u001b[0;31m \u001b[0meditor\u001b[0m \u001b[0;34m=\u001b[0m \u001b[0mrkt\u001b[0m\u001b[0;34m.\u001b[0m\u001b[0mChemicalEditor\u001b[0m\u001b[0;34m(\u001b[0m\u001b[0mdatabase\u001b[0m\u001b[0;34m)\u001b[0m\u001b[0;34m\u001b[0m\u001b[0;34m\u001b[0m\u001b[0m\n\u001b[0m\u001b[1;32m      3\u001b[0m \u001b[0;31m# editor.addAqueousPhaseWithElements([\u001b[0m\u001b[0;34m\u001b[0m\u001b[0;34m\u001b[0m\u001b[0;34m\u001b[0m\u001b[0m\n\u001b[1;32m      4\u001b[0m \u001b[0;31m# 'H', 'O', 'Cl', 'Na', 'S', 'Co'])\u001b[0m\u001b[0;34m\u001b[0m\u001b[0;34m\u001b[0m\u001b[0;34m\u001b[0m\u001b[0m\n\u001b[1;32m      5\u001b[0m \u001b[0;31m# # Construct the chemical system\u001b[0m\u001b[0;34m\u001b[0m\u001b[0;34m\u001b[0m\u001b[0;34m\u001b[0m\u001b[0m\n",
      "\u001b[0;31mRuntimeError\u001b[0m: \n********************************************************************\n*** Error: Fromula Parser\n*** Reason:  A symbol of element expected here!\n*** Location: ...80702/work/ThermoFun/Common/formulaparser.cpp:294\n********************************************************************\n\n"
     ]
    }
   ],
   "source": [
    "# Define the chemical system\n",
    "editor = rkt.ChemicalEditor(database)\n",
    "editor.addAqueousPhaseWithElements([\n",
    "'H', 'O', 'Cl', 'Na', 'S', 'Co'])\n",
    "# Construct the chemical system\n",
    "system = rkt.ChemicalSystem(editor)"
   ]
  },
  {
   "cell_type": "markdown",
   "metadata": {},
   "source": [
    "## 6. Define the chemical equilibrium problem"
   ]
  },
  {
   "cell_type": "code",
   "execution_count": null,
   "metadata": {},
   "outputs": [],
   "source": [
    "problem = rkt.EquilibriumProblem(system)\n",
    "problem.add(\"Co\",0.03,\"mol\") \n",
    "problem.add(\"H2O\",1,\"kg\")\n",
    "problem.add(\"HCl\",10**-pH,\"mol\")\n",
    "problem.add(\"NaCl\",c_Cl - 10**-pH,\"mol\")\n",
    "problem.setPressure(P, \"bar\")\n",
    "problem.setTemperature(T, \"kelvin\")"
   ]
  },
  {
   "cell_type": "markdown",
   "metadata": {},
   "source": [
    "## 7. Calculate the chemical equilibrium state"
   ]
  },
  {
   "cell_type": "code",
   "execution_count": null,
   "metadata": {},
   "outputs": [],
   "source": [
    "state = rkt.equilibrate(problem)\n",
    "print(state)"
   ]
  },
  {
   "cell_type": "code",
   "execution_count": null,
   "metadata": {},
   "outputs": [],
   "source": [
    "# T = 298.15 # [K]\n",
    "# P = 1e5 # [Pa]\n",
    "# dGr = rkt.engine.thermoPropertiesReaction(T, P, \"CoCl4-2\").reaction_gibbs_energy # [J*mol^-1]\n",
    "# print(dGr.val) "
   ]
  },
  {
   "cell_type": "code",
   "execution_count": null,
   "metadata": {},
   "outputs": [],
   "source": []
  }
 ],
 "metadata": {
  "kernelspec": {
   "display_name": "Python 3",
   "language": "python",
   "name": "python3"
  },
  "language_info": {
   "codemirror_mode": {
    "name": "ipython",
    "version": 3
   },
   "file_extension": ".py",
   "mimetype": "text/x-python",
   "name": "python",
   "nbconvert_exporter": "python",
   "pygments_lexer": "ipython3",
   "version": "3.8.5"
  }
 },
 "nbformat": 4,
 "nbformat_minor": 4
}
