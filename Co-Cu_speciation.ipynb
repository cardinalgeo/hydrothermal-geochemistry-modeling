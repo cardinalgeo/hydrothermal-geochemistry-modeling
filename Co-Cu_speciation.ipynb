{
 "cells": [
  {
   "cell_type": "markdown",
   "metadata": {},
   "source": [
    "# Aqueous speciation in the system Cu-Co-S-Cl-Na\n",
    "In this notebook, I determine the speciation of Cu and Co-bearing complexes in a saline, S-bearing aqueous solution under hydrothermal conditions. "
   ]
  },
  {
   "cell_type": "markdown",
   "metadata": {},
   "source": [
    "## 1. Import Libraries"
   ]
  },
  {
   "cell_type": "code",
   "execution_count": 1,
   "metadata": {},
   "outputs": [],
   "source": [
    "import numpy as np\n",
    "import math \n",
    "import thermofun as fun\n",
    "import reaktoro as rkt"
   ]
  },
  {
   "cell_type": "markdown",
   "metadata": {},
   "source": [
    "## 2. Initialize a thermodynamic database; check the contents of the database"
   ]
  },
  {
   "cell_type": "code",
   "execution_count": 2,
   "metadata": {},
   "outputs": [
    {
     "name": "stdout",
     "output_type": "stream",
     "text": [
      "dict_keys(['Ag', 'Al', 'Ar', 'As', 'Au', 'B', 'Ba', 'Be', 'Bi', 'Br', 'C', 'Ca', 'Cd', 'Ce', 'Cl', 'Co', 'Cr', 'Cs', 'Cu', 'Dy', 'Er', 'Eu', 'F', 'Fe', 'Ga', 'Gd', 'H', 'He', 'Hf', 'Hg', 'Ho', 'I', 'In', 'K', 'Kr', 'La', 'Li', 'Lu', 'Mg', 'Mn', 'Mo', 'N', 'Na', 'Nb', 'Nd', 'Ne', 'Ni', 'Nia', 'O', 'P', 'Pb', 'Pd', 'Pr', 'Pt', 'Ra', 'Rb', 'Re', 'Rh', 'Rn', 'Ru', 'S', 'Sb', 'Sc', 'Se', 'Si', 'Sm', 'Sn', 'Sr', 'Tb', 'Tc', 'Th', 'Ti', 'Tl', 'Tm', 'U', 'V', 'W', 'Xe', 'Y', 'Yb', 'Zn', 'Zr', 'Zz'])\n",
      "dict_keys(['CoCl+', 'CoCl2@', 'CoCl3-', 'CoCl4-2', 'CoH2S+2', 'CoHS+'])\n",
      "dict_keys(['Cl-', 'Co(s)', 'Co+++', 'Co+2', 'CoCl+', 'CoCl2@', 'CoCl3-', 'CoCl4-2', 'CoH2S+2', 'CoHS+', 'CoO', 'CoO2--', 'CoOH+', 'CoOH++', 'Cu(HS)2-', 'Cu(OH)2-', 'Cu+', 'Cu++', 'CuCl', 'CuCl+', 'CuCl2', 'CuCl2-', 'CuCl3-', 'CuCl3--', 'CuCl4--', 'CuHS', 'CuO', 'CuO2--', 'CuOH', 'CuOH+', 'H+', 'H2O@', 'H2S@', 'HCl@', 'HCuO2-', 'HS-', 'HSO4-', 'Na+', 'NaCl@', 'NaOH@', 'OH-', 'SO4--'])\n"
     ]
    }
   ],
   "source": [
    "#database = fun.Database('./databases/ThermoFun_db/mines16-thermofun.json')\n",
    "#database.appendData('./databases/Co_Cu_aq_speciation.json')\n",
    "database = fun.Database('./databases/Co_Cu_aq_speciation.json')\n",
    "#database = fun.Database('./databases/Willy_ThermoHub_db.json')\n",
    "\n",
    "elements = database.mapElements()\n",
    "print(elements.keys())\n",
    "reactions = database.mapReactions()\n",
    "print(reactions.keys())\n",
    "substances = database.mapSubstances()\n",
    "print(substances.keys())\n",
    "engine = fun.ThermoEngine(database)\n"
   ]
  },
  {
   "cell_type": "markdown",
   "metadata": {},
   "source": [
    "## 3. Set temperature and pressure conditions"
   ]
  },
  {
   "cell_type": "code",
   "execution_count": 3,
   "metadata": {},
   "outputs": [],
   "source": [
    "T = 200 + 273.15 # [K]\n",
    "P = rkt.waterSaturatedPressureWagnerPruss(T).val/100000 # [bar] saturated water vapor pressure"
   ]
  },
  {
   "cell_type": "markdown",
   "metadata": {},
   "source": [
    "## 4. Set pH and chlorinity conditions"
   ]
  },
  {
   "cell_type": "code",
   "execution_count": 4,
   "metadata": {},
   "outputs": [],
   "source": [
    "# Target pH \n",
    "pH = 3\n",
    "# Target chlorinity\n",
    "c_Cl = 1 # [mol*kg^-1]"
   ]
  },
  {
   "cell_type": "markdown",
   "metadata": {},
   "source": [
    "## 5. Define and construct the chemical system"
   ]
  },
  {
   "cell_type": "code",
   "execution_count": 5,
   "metadata": {},
   "outputs": [],
   "source": [
    "# Define the chemical system\n",
    "editor = rkt.ChemicalEditor(database)\n",
    "# editor.addAqueousPhaseWithElements([\n",
    "# 'H', 'O', 'Cl', 'Na', 'S', 'Co'])\n",
    "# editor.addAqueousPhase(\n",
    "#     ['Cl-', 'Co+++', 'Co+2', 'CoCl+', 'CoCl2@', \n",
    "#      'CoCl3-', 'CoCl4-2', 'CoH2S+2', 'CoHS+', 'CoO', 'CoO2--', \n",
    "#      'CoOH+', 'CoOH++', 'Cu(HS)2-', 'Cu(OH)2-', 'Cu+', 'Cu++', \n",
    "#      'CuCl', 'CuCl+', 'CuCl2', 'CuCl2-', 'CuCl3-', 'CuCl3--', \n",
    "#      'CuCl4--', 'CuHS', 'CuO', 'CuO2--', 'CuOH', 'CuOH+', 'H+', \n",
    "#      'H2O@', 'H2S@', 'HCl@', 'HCuO2-', 'HS-', 'HSO4-', 'Na+', \n",
    "#      'NaCl@', 'NaOH@', 'OH-', 'SO4--'])\n",
    "editor.addAqueousPhase(\n",
    "    ['Cl-', 'Co+++', 'Co+2', 'CoCl+', 'CoCl4-2', 'CoCl2@', 'H+', \n",
    "     'H2O@', 'H2S@', 'HCl@', 'HS-', 'HSO4-', 'Na+', \n",
    "     'NaCl@', 'NaOH@', 'OH-', 'SO4--'])\n",
    "# Construct the chemical system\n",
    "system = rkt.ChemicalSystem(editor)"
   ]
  },
  {
   "cell_type": "markdown",
   "metadata": {},
   "source": [
    "## 6. Define the chemical equilibrium problem"
   ]
  },
  {
   "cell_type": "code",
   "execution_count": 6,
   "metadata": {},
   "outputs": [
    {
     "data": {
      "text/plain": [
       "<reaktoro.PyReaktoro.EquilibriumProblem at 0x1190105b0>"
      ]
     },
     "execution_count": 6,
     "metadata": {},
     "output_type": "execute_result"
    }
   ],
   "source": [
    "problem = rkt.EquilibriumProblem(system)\n",
    "problem.add(\"Co\",0.03,\"mol\")\n",
    "#problem.add(\"Cu\",0.015,\"mol\")\n",
    "problem.add(\"H2O\",1,\"kg\")\n",
    "problem.add(\"HCl\",10**-pH,\"mol\")\n",
    "problem.add(\"NaCl\",c_Cl - 10**-pH,\"mol\")\n",
    "problem.setPressure(P, \"bar\")\n",
    "problem.setTemperature(T, \"kelvin\")"
   ]
  },
  {
   "cell_type": "markdown",
   "metadata": {},
   "source": [
    "## 7. Calculate the chemical equilibrium state"
   ]
  },
  {
   "cell_type": "code",
   "execution_count": 7,
   "metadata": {},
   "outputs": [
    {
     "name": "stdout",
     "output_type": "stream",
     "text": [
      "=================================================================================================================================================================================================================================\n",
      "Temperature [K]          Temperature [C]          Pressure [Pa]            Pressure [bar]           \n",
      "---------------------------------------------------------------------------------------------------------------------------------------------------------------------------------------------------------------------------------\n",
      "473.15                   200                      1.55494e+06              15.5494                  \n",
      "=================================================================================================================================================================================================================================\n",
      "Element                  Amount [mol]             Aqueous [mol]            Dual Potential [kJ/mol]  \n",
      "---------------------------------------------------------------------------------------------------------------------------------------------------------------------------------------------------------------------------------\n",
      "Cl                       1                        1                        -250.329                 \n",
      "Co                       0.09                     0.09                     163.46                   \n",
      "H                        111.018                  111.018                  79.231                   \n",
      "Na                       0.999                    0.999                    -162.648                 \n",
      "O                        55.5084                  55.5084                  -411.241                 \n",
      "S                        4e-20                    4e-20                    0                        \n",
      "Z                        0.18                     0.18                     -109.014                 \n",
      "=================================================================================================================================================================================================================================\n",
      "Species                  Amount [mol]             Mole Fraction [mol/mol]  Activity Coefficient [-] Activity [-]             Potential [kJ/mol]       Dual Potential [kJ/mol]  \n",
      "---------------------------------------------------------------------------------------------------------------------------------------------------------------------------------------------------------------------------------\n",
      "Cl-                      0.522069                 0.00913978               0.500596                 0.261346                 -141.314                 7.53538e-20              \n",
      "Co+++                    1e-20                    1.75068e-22              0.000866948              8.66948e-24              -159.648                 3.93399                  \n",
      "Co+2                     0.000137915              2.41447e-06              0.0396158                5.46364e-06              -54.5683                 2.85246e-16              \n",
      "CoCl+                    6.62413e-05              1.15968e-06              0.530415                 3.51354e-05              -195.883                 5.93888e-16              \n",
      "CoCl4-2                  0.0895949                0.00156852               0.044299                 0.00396896               -619.826                 4.39086e-19              \n",
      "CoCl2@                   0.000200984              3.51859e-06              1                        0.000200984              -337.197                 1.95737e-16              \n",
      "H+                       0.000893326              1.56393e-05              0.576849                 0.000515314              -29.7832                 4.40375e-17              \n",
      "H2O@                     55.5084                  0.971778                 1.00603                  0.977638                 -252.78                  7.08719e-22              \n",
      "H2S@                     1e-20                    1.75068e-22              1                        1e-20                    -237.862                 0                        \n",
      "HCl@                     0.000106708              1.86812e-06              1                        0.000106708              -171.098                 3.68668e-16              \n",
      "HS-                      1e-20                    1.75068e-22              0.502865                 5.02866e-21              -180.022                 0                        \n",
      "HSO4-                    1e-20                    1.75068e-22              0.539648                 5.39648e-21              -369.972                 0                        \n",
      "Na+                      0.880023                 0.0154064                0.502384                 0.44211                  -271.662                 4.47032e-20              \n",
      "NaCl@                    0.118977                 0.00208291               1                        0.118977                 -412.977                 3.30651e-19              \n",
      "NaOH@                    1.32485e-08              2.31939e-10              1                        1.32485e-08              -494.659                 2.96939e-12              \n",
      "OH-                      2.09687e-08              3.67095e-10              0.466808                 9.78835e-09              -222.996                 1.87613e-12              \n",
      "SO4--                    1e-20                    1.75068e-22              0.0462689                4.6269e-22               -361.957                 0                        \n",
      "=================================================================================================================================================================================================================================\n",
      "Phase                    Amount [mol]             Stability                Stability Index [-]      Mass [kg]                Volume [m3]              Density [kg/m3]          Molar Volume [m3/mol]    Volume Fraction [m3/m3]  \n",
      "---------------------------------------------------------------------------------------------------------------------------------------------------------------------------------------------------------------------------------\n",
      "Aqueous                  57.1205                  stable                    0                       1063.73                  0.00115714               919273                   2.02579e-05              1                        \n",
      "=================================================================================================================================================================================================================================\n",
      "Ionic Strength [molal]   pH                       pE                       Reduction Potential [V]  Alkalinity [eq/L]        \n",
      "---------------------------------------------------------------------------------------------------------------------------------------------------------------------------------------------------------------------------------\n",
      "0.880992                 3.28793                  8.4309                   0.791519                 0.309344                 \n",
      "=================================================================================================================================================================================================================================\n",
      "\n"
     ]
    }
   ],
   "source": [
    "state = rkt.equilibrate(problem)\n",
    "print(state)"
   ]
  },
  {
   "cell_type": "code",
   "execution_count": null,
   "metadata": {},
   "outputs": [],
   "source": [
    "# T = 298.15 # [K]\n",
    "# P = 1e5 # [Pa]\n",
    "# dGr = rkt.engine.thermoPropertiesReaction(T, P, \"CoCl4-2\").reaction_gibbs_energy # [J*mol^-1]\n",
    "# print(dGr.val) "
   ]
  },
  {
   "cell_type": "code",
   "execution_count": null,
   "metadata": {},
   "outputs": [],
   "source": []
  }
 ],
 "metadata": {
  "kernelspec": {
   "display_name": "Python 3",
   "language": "python",
   "name": "python3"
  },
  "language_info": {
   "codemirror_mode": {
    "name": "ipython",
    "version": 3
   },
   "file_extension": ".py",
   "mimetype": "text/x-python",
   "name": "python",
   "nbconvert_exporter": "python",
   "pygments_lexer": "ipython3",
   "version": "3.8.5"
  }
 },
 "nbformat": 4,
 "nbformat_minor": 4
}
