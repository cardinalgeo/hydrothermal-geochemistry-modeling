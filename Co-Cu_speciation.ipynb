{
 "cells": [
  {
   "cell_type": "markdown",
   "metadata": {},
   "source": [
    "# Aqueous speciation in the system Cu-Co-S-Cl-Na\n",
    "In this notebook, I determine the speciation of Cu and Co-bearing complexes in a saline, S-bearing aqueous solution under hydrothermal conditions. "
   ]
  },
  {
   "cell_type": "markdown",
   "metadata": {},
   "source": [
    "## 1. Import Libraries"
   ]
  },
  {
   "cell_type": "code",
   "execution_count": 2,
   "metadata": {},
   "outputs": [],
   "source": [
    "import numpy as np\n",
    "import math \n",
    "import thermofun as fun\n",
    "import reaktoro as rkt"
   ]
  },
  {
   "cell_type": "markdown",
   "metadata": {},
   "source": [
    "## 2. Initialize a thermodynamic database; check the contents of the database"
   ]
  },
  {
   "cell_type": "code",
   "execution_count": 3,
   "metadata": {},
   "outputs": [
    {
     "name": "stdout",
     "output_type": "stream",
     "text": [
      "dict_keys(['Ag', 'Al', 'Ar', 'As', 'Au', 'B', 'Ba', 'Be', 'Bi', 'Br', 'C', 'Ca', 'Cd', 'Ce', 'Cl', 'Co', 'Cr', 'Cs', 'Cu', 'Dy', 'Er', 'Eu', 'F', 'Fe', 'Ga', 'Gd', 'H', 'He', 'Hf', 'Hg', 'Ho', 'I', 'In', 'K', 'Kr', 'La', 'Li', 'Lu', 'Mg', 'Mn', 'Mo', 'N', 'Na', 'Nb', 'Nd', 'Ne', 'Ni', 'Nia', 'O', 'P', 'Pb', 'Pd', 'Pr', 'Pt', 'Ra', 'Rb', 'Re', 'Rh', 'Rn', 'Ru', 'S', 'Sb', 'Sc', 'Se', 'Si', 'Sm', 'Sn', 'Sr', 'Tb', 'Tc', 'Th', 'Ti', 'Tl', 'Tm', 'U', 'V', 'W', 'Xe', 'Y', 'Yb', 'Zn', 'Zr', 'Zz'])\n",
      "dict_keys(['CoCl+', 'CoCl2@', 'CoCl3-', 'CoCl4-2', 'CoH2S+2', 'CoHS+'])\n",
      "dict_keys(['Cl-', 'Co(s)', 'Co+++', 'Co+2', 'CoCl+', 'CoCl2@', 'CoCl3-', 'CoCl4-2', 'CoH2S+2', 'CoHS+', 'CoO', 'CoO2--', 'CoOH+', 'CoOH++', 'Cu(HS)2-', 'Cu(OH)2-', 'Cu+', 'Cu++', 'CuCl', 'CuCl+', 'CuCl2', 'CuCl2-', 'CuCl3-', 'CuCl3--', 'CuCl4--', 'CuHS', 'CuO', 'CuO2--', 'CuOH', 'CuOH+', 'H+', 'H2O@', 'H2S@', 'HCl@', 'HCuO2-', 'HS-', 'HSO4-', 'Na+', 'NaCl@', 'NaOH@', 'OH-', 'SO4--'])\n"
     ]
    }
   ],
   "source": [
    "#database = fun.Database('./databases/ThermoFun_db/mines16-thermofun.json')\n",
    "#database.appendData('./databases/Co_Cu_aq_speciation.json')\n",
    "database = fun.Database('./databases/Co_Cu_aq_speciation.json')\n",
    "#database = fun.Database('./databases/Willy_ThermoHub_db.json')\n",
    "\n",
    "elements = database.mapElements()\n",
    "print(elements.keys())\n",
    "reactions = database.mapReactions()\n",
    "print(reactions.keys())\n",
    "substances = database.mapSubstances()\n",
    "print(substances.keys())\n",
    "engine = fun.ThermoEngine(database)\n"
   ]
  },
  {
   "cell_type": "markdown",
   "metadata": {},
   "source": [
    "## 3. Set temperature and pressure conditions"
   ]
  },
  {
   "cell_type": "code",
   "execution_count": 4,
   "metadata": {},
   "outputs": [],
   "source": [
    "T = 200 + 273.15 # [K]\n",
    "P = rkt.waterSaturatedPressureWagnerPruss(T).val/100000 # [bar] saturated water vapor pressure"
   ]
  },
  {
   "cell_type": "markdown",
   "metadata": {},
   "source": [
    "## 4. Set pH and chlorinity conditions"
   ]
  },
  {
   "cell_type": "code",
   "execution_count": 5,
   "metadata": {},
   "outputs": [],
   "source": [
    "# Target pH \n",
    "pH = 3\n",
    "# Target chlorinity\n",
    "c_Cl = 1 # [mol*kg^-1]"
   ]
  },
  {
   "cell_type": "markdown",
   "metadata": {},
   "source": [
    "## 5. Define and construct the chemical system"
   ]
  },
  {
   "cell_type": "code",
   "execution_count": 21,
   "metadata": {},
   "outputs": [],
   "source": [
    "# Define the chemical system\n",
    "editor = rkt.ChemicalEditor(database)\n",
    "# editor.addAqueousPhaseWithElements([\n",
    "# 'H', 'O', 'Cl', 'Na', 'S', 'Co'])\n",
    "# editor.addAqueousPhase(\n",
    "#     ['Cl-', 'Co+++', 'Co+2', 'CoCl+', 'CoCl2@', \n",
    "#      'CoCl3-', 'CoCl4-2', 'CoH2S+2', 'CoHS+', 'CoO', 'CoO2--', \n",
    "#      'CoOH+', 'CoOH++', 'Cu(HS)2-', 'Cu(OH)2-', 'Cu+', 'Cu++', \n",
    "#      'CuCl', 'CuCl+', 'CuCl2', 'CuCl2-', 'CuCl3-', 'CuCl3--', \n",
    "#      'CuCl4--', 'CuHS', 'CuO', 'CuO2--', 'CuOH', 'CuOH+', 'H+', \n",
    "#      'H2O@', 'H2S@', 'HCl@', 'HCuO2-', 'HS-', 'HSO4-', 'Na+', \n",
    "#      'NaCl@', 'NaOH@', 'OH-', 'SO4--'])\n",
    "# editor.addAqueousPhase(\n",
    "#     ['Cl-', 'Cu+', 'Cu++', 'CuCl', 'CuCl+', 'CuCl2', \n",
    "#      'CuCl2-', 'CuCl3-', 'CuCl3--', 'CuCl4--', 'H+', \n",
    "#      'H2O@', 'HCl@', 'Na+', 'NaCl@', 'NaOH@', 'OH-'])\n",
    "editor.addAqueousPhase(\n",
    "    ['Cl-', 'Cu+', 'Cu++', 'CuCl2', 'CuCl2-', \n",
    "     'H2O@'])\n",
    "# Construct the chemical system\n",
    "system = rkt.ChemicalSystem(editor)"
   ]
  },
  {
   "cell_type": "markdown",
   "metadata": {},
   "source": [
    "## 6. Define the chemical equilibrium problem"
   ]
  },
  {
   "cell_type": "code",
   "execution_count": 22,
   "metadata": {},
   "outputs": [
    {
     "data": {
      "text/plain": [
       "<reaktoro.PyReaktoro.EquilibriumProblem at 0x11e0282f0>"
      ]
     },
     "execution_count": 22,
     "metadata": {},
     "output_type": "execute_result"
    }
   ],
   "source": [
    "problem = rkt.EquilibriumProblem(system)\n",
    "#problem.add(\"Co\",0.03,\"mol\")\n",
    "problem.add(\"Cu\",0.015,\"mol\")\n",
    "problem.add(\"H2O\",1,\"kg\")\n",
    "problem.add(\"HCl\",10**-pH,\"mol\")\n",
    "problem.add(\"Cl\",c_Cl - 10**-pH,\"mol\")\n",
    "problem.setPressure(P, \"bar\")\n",
    "problem.setTemperature(T, \"kelvin\")"
   ]
  },
  {
   "cell_type": "markdown",
   "metadata": {},
   "source": [
    "## 7. Calculate the chemical equilibrium state"
   ]
  },
  {
   "cell_type": "code",
   "execution_count": 23,
   "metadata": {},
   "outputs": [
    {
     "name": "stdout",
     "output_type": "stream",
     "text": [
      "=================================================================================================================================================================================================================================\n",
      "Temperature [K]          Temperature [C]          Pressure [Pa]            Pressure [bar]           \n",
      "---------------------------------------------------------------------------------------------------------------------------------------------------------------------------------------------------------------------------------\n",
      "473.15                   200                      1.55494e+06              15.5494                  \n",
      "=================================================================================================================================================================================================================================\n",
      "Element                  Amount [mol]             Aqueous [mol]            Dual Potential [kJ/mol]  \n",
      "---------------------------------------------------------------------------------------------------------------------------------------------------------------------------------------------------------------------------------\n",
      "Cl                       1                        1                        38.2109                  \n",
      "Cu                       0.985                    0.985                    -351.972                 \n",
      "H                        111.018                  111.018                  -126.376                 \n",
      "O                        55.5089                  55.5089                  0                        \n",
      "Z                        0.97                     0.97                     176.955                  \n",
      "=================================================================================================================================================================================================================================\n",
      "Species                  Amount [mol]             Mole Fraction [mol/mol]  Activity Coefficient [-] Activity [-]             Potential [kJ/mol]       Dual Potential [kJ/mol]  \n",
      "---------------------------------------------------------------------------------------------------------------------------------------------------------------------------------------------------------------------------------\n",
      "Cl-                      1                        0.0173931                0.502366                 0.502362                 -138.744                 3.93399e-20              \n",
      "Cu+                      1.97914e-20              3.44235e-22              0.506074                 1.00158e-20              -173.03                  1.98772                  \n",
      "Cu++                     0.985                    0.0171322                0.00991948               0.0097706                1.93694                  3.9939e-20               \n",
      "CuCl2                    1.23953e-21              2.15594e-23              1                        1.23952e-21              -243.813                 31.7376                  \n",
      "CuCl2-                   2.08589e-22              3.62802e-24              0.502366                 1.04787e-22              -263.905                 188.6                    \n",
      "H2O@                     55.5089                  0.965475                 1.01974                  0.984537                 -252.752                 7.08713e-22              \n",
      "=================================================================================================================================================================================================================================\n",
      "Phase                    Amount [mol]             Stability                Stability Index [-]      Mass [kg]                Volume [m3]              Density [kg/m3]          Molar Volume [m3/mol]    Volume Fraction [m3/m3]  \n",
      "---------------------------------------------------------------------------------------------------------------------------------------------------------------------------------------------------------------------------------\n",
      "Aqueous                  57.4939                  stable                    0                       1098.06                  0.0011192                981111                   1.94663e-05              1                        \n",
      "=================================================================================================================================================================================================================================\n",
      "Ionic Strength [molal]   pH                       pE                       Reduction Potential [V]  Alkalinity [eq/L]        \n",
      "---------------------------------------------------------------------------------------------------------------------------------------------------------------------------------------------------------------------------------\n",
      "2.46998                  -0                       19.3156                  1.8134                   -0.893498                \n",
      "=================================================================================================================================================================================================================================\n",
      "\n"
     ]
    }
   ],
   "source": [
    "state = rkt.equilibrate(problem)\n",
    "print(state)"
   ]
  },
  {
   "cell_type": "code",
   "execution_count": null,
   "metadata": {},
   "outputs": [],
   "source": [
    "# T = 298.15 # [K]\n",
    "# P = 1e5 # [Pa]\n",
    "# dGr = rkt.engine.thermoPropertiesReaction(T, P, \"CoCl4-2\").reaction_gibbs_energy # [J*mol^-1]\n",
    "# print(dGr.val) "
   ]
  },
  {
   "cell_type": "code",
   "execution_count": null,
   "metadata": {},
   "outputs": [],
   "source": []
  }
 ],
 "metadata": {
  "kernelspec": {
   "display_name": "Python 3",
   "language": "python",
   "name": "python3"
  },
  "language_info": {
   "codemirror_mode": {
    "name": "ipython",
    "version": 3
   },
   "file_extension": ".py",
   "mimetype": "text/x-python",
   "name": "python",
   "nbconvert_exporter": "python",
   "pygments_lexer": "ipython3",
   "version": "3.8.5"
  }
 },
 "nbformat": 4,
 "nbformat_minor": 4
}
