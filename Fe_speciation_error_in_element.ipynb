{
 "cells": [
  {
   "cell_type": "markdown",
   "metadata": {},
   "source": [
    "# Aqueous speciation in the system Fe-O-H\n",
    "In this notebook, I determine the speciation of Fe in an aqueous solution under hydrothermal conditions. "
   ]
  },
  {
   "cell_type": "markdown",
   "metadata": {},
   "source": [
    "## 1. Import Libraries"
   ]
  },
  {
   "cell_type": "code",
   "execution_count": 1,
   "metadata": {},
   "outputs": [],
   "source": [
    "import thermofun as fun\n",
    "import reaktoro as rkt"
   ]
  },
  {
   "cell_type": "markdown",
   "metadata": {},
   "source": [
    "## 2. Initialize a thermodynamic database; comment out one scenario at a time"
   ]
  },
  {
   "cell_type": "code",
   "execution_count": 2,
   "metadata": {},
   "outputs": [],
   "source": [
    "# substance + element data in one file \n",
    "database = fun.Database('./troubleshooting/databases/Fe_aq_speciation_w_elements.json')\n",
    "\n",
    "# substance data in one file, element data in another \n",
    "# database = fun.Database('./troubleshooting/databases/Fe_aq_speciation_wo_elements.json')\n",
    "# database.appendData('./troubleshooting/databases/Fe_aq_speciation_elements.json')\n"
   ]
  },
  {
   "cell_type": "markdown",
   "metadata": {},
   "source": [
    "## 3. Set temperature and pressure conditions"
   ]
  },
  {
   "cell_type": "code",
   "execution_count": 3,
   "metadata": {},
   "outputs": [],
   "source": [
    "T = 200 + 273.15 # [K] \n",
    "P = 15 # [bar] saturated water vapor pressure"
   ]
  },
  {
   "cell_type": "markdown",
   "metadata": {},
   "source": [
    "## 4. Define and construct the chemical system"
   ]
  },
  {
   "cell_type": "code",
   "execution_count": 5,
   "metadata": {},
   "outputs": [],
   "source": [
    "# Define the chemical system\n",
    "editor = rkt.ChemicalEditor(database)\n",
    "editor.addAqueousPhase(\n",
    "    ['Fe+++', 'H2O@', 'Cl-', 'FeCl++'])\n",
    "# Construct the chemical system\n",
    "system = rkt.ChemicalSystem(editor)"
   ]
  },
  {
   "cell_type": "markdown",
   "metadata": {},
   "source": [
    "## 5. Define the chemical equilibrium problem"
   ]
  },
  {
   "cell_type": "code",
   "execution_count": 6,
   "metadata": {},
   "outputs": [
    {
     "data": {
      "text/plain": [
       "<reaktoro.PyReaktoro.EquilibriumProblem at 0x11f6d5ef0>"
      ]
     },
     "execution_count": 6,
     "metadata": {},
     "output_type": "execute_result"
    }
   ],
   "source": [
    "problem = rkt.EquilibriumProblem(system)\n",
    "problem.add(\"Fe\",0.05,\"mol\")\n",
    "problem.add(\"Cl\",0.1,\"mol\")\n",
    "problem.add(\"H2O\",1,\"kg\")\n",
    "problem.setPressure(P, \"bar\")\n",
    "problem.setTemperature(T, \"kelvin\")"
   ]
  },
  {
   "cell_type": "markdown",
   "metadata": {},
   "source": [
    "## 6. Calculate the chemical equilibrium state"
   ]
  },
  {
   "cell_type": "code",
   "execution_count": 7,
   "metadata": {},
   "outputs": [
    {
     "name": "stdout",
     "output_type": "stream",
     "text": [
      "=================================================================================================================================================================================================================================\n",
      "Temperature [K]          Temperature [C]          Pressure [Pa]            Pressure [bar]           \n",
      "---------------------------------------------------------------------------------------------------------------------------------------------------------------------------------------------------------------------------------\n",
      "473.15                   200                      1.5e+06                  15                       \n",
      "=================================================================================================================================================================================================================================\n",
      "Element                  Amount [mol]             Aqueous [mol]            Dual Potential [kJ/mol]  \n",
      "---------------------------------------------------------------------------------------------------------------------------------------------------------------------------------------------------------------------------------\n",
      "Cl                       0.1                      0.1                      -153.714                 \n",
      "Fe                       0.0333333                0.0333333                0                        \n",
      "H                        111.017                  111.017                  -126.349                 \n",
      "O                        55.5084                  55.5084                  0                        \n",
      "Z                        -1.10752e-17             -1.10752e-17             -6.68227                 \n",
      "=================================================================================================================================================================================================================================\n",
      "Species                  Amount [mol]             Mole Fraction [mol/mol]  Activity Coefficient [-] Activity [-]             Potential [kJ/mol]       Dual Potential [kJ/mol]  \n",
      "---------------------------------------------------------------------------------------------------------------------------------------------------------------------------------------------------------------------------------\n",
      "Fe+++                    0.0333333                0.00059907               0.0110495                0.000368316              -20.0468                 1.1802e-18               \n",
      "H2O@                     55.5084                  0.997604                 1.00092                  0.998524                 -252.698                 7.08719e-22              \n",
      "Cl-                      0.1                      0.00179721               0.611091                 0.0611092                -147.031                 3.93399e-19              \n",
      "FeCl++                   5.70517e-15              1.02534e-16              0.131268                 7.48907e-16              -167.078                 6.89548e-06              \n",
      "=================================================================================================================================================================================================================================\n",
      "Phase                    Amount [mol]             Stability                Stability Index [-]      Mass [kg]                Volume [m3]              Density [kg/m3]          Molar Volume [m3/mol]    Volume Fraction [m3/m3]  \n",
      "---------------------------------------------------------------------------------------------------------------------------------------------------------------------------------------------------------------------------------\n",
      "Aqueous                  55.6418                  stable                    0                       1005.41                  0.00115469               870718                   2.07522e-05              1                        \n",
      "=================================================================================================================================================================================================================================\n",
      "Ionic Strength [molal]   pH                       pE                       Reduction Potential [V]  Alkalinity [eq/L]        \n",
      "---------------------------------------------------------------------------------------------------------------------------------------------------------------------------------------------------------------------------------\n",
      "0.2                      -0                       -0.737693                -0.0692569               -0.0866034               \n",
      "=================================================================================================================================================================================================================================\n",
      "\n"
     ]
    }
   ],
   "source": [
    "state = rkt.equilibrate(problem)\n",
    "print(state)"
   ]
  },
  {
   "cell_type": "code",
   "execution_count": null,
   "metadata": {},
   "outputs": [],
   "source": []
  },
  {
   "cell_type": "code",
   "execution_count": null,
   "metadata": {},
   "outputs": [],
   "source": []
  }
 ],
 "metadata": {
  "kernelspec": {
   "display_name": "Python 3",
   "language": "python",
   "name": "python3"
  },
  "language_info": {
   "codemirror_mode": {
    "name": "ipython",
    "version": 3
   },
   "file_extension": ".py",
   "mimetype": "text/x-python",
   "name": "python",
   "nbconvert_exporter": "python",
   "pygments_lexer": "ipython3",
   "version": "3.8.5"
  }
 },
 "nbformat": 4,
 "nbformat_minor": 4
}
