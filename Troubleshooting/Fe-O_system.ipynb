{
 "cells": [
  {
   "cell_type": "markdown",
   "metadata": {},
   "source": [
    "# Issues with 1.) units of mass when adding phases to system and 2.) formula parser "
   ]
  },
  {
   "cell_type": "markdown",
   "metadata": {},
   "source": [
    "I will illustrate issue 1 by comparing the amount of Fe added to a chemical system and the amount of Fe subsequently reported to be in that system. I will illustrate issue two by comparing the molar masses of the same substance but with different formula formats. "
   ]
  },
  {
   "cell_type": "markdown",
   "metadata": {},
   "source": [
    "## 1. Import Libraries"
   ]
  },
  {
   "cell_type": "code",
   "execution_count": 78,
   "metadata": {},
   "outputs": [],
   "source": [
    "import thermofun as fun\n",
    "import reaktoro as rkt\n",
    "import numpy as np\n",
    "import matplotlib.pyplot as plt"
   ]
  },
  {
   "cell_type": "markdown",
   "metadata": {},
   "source": [
    "## 2. Initialize a thermodynamic database"
   ]
  },
  {
   "cell_type": "code",
   "execution_count": 79,
   "metadata": {},
   "outputs": [],
   "source": [
    "database = fun.Database('./databases/Fe-O_system.json')"
   ]
  },
  {
   "cell_type": "markdown",
   "metadata": {},
   "source": [
    "### 2a. Check the contents of the database (optional)"
   ]
  },
  {
   "cell_type": "code",
   "execution_count": 80,
   "metadata": {},
   "outputs": [
    {
     "name": "stdout",
     "output_type": "stream",
     "text": [
      "dict_keys(['Hematite', 'Magnetite', 'Magnetite_charge_specified', 'O2'])\n"
     ]
    }
   ],
   "source": [
    "substances = database.mapSubstances()\n",
    "print(substances.keys())"
   ]
  },
  {
   "cell_type": "markdown",
   "metadata": {},
   "source": [
    "## 3. Define and construct the chemical system"
   ]
  },
  {
   "cell_type": "code",
   "execution_count": 81,
   "metadata": {},
   "outputs": [],
   "source": [
    "# Define the chemical system\n",
    "editor = rkt.ChemicalEditor(database)\n",
    "editor.addMineralPhase(['Hematite', 'Magnetite']) \n",
    "editor.addGaseousPhase(['O2'])\n",
    "\n",
    "# Construct the chemical system\n",
    "system = rkt.ChemicalSystem(editor)"
   ]
  },
  {
   "cell_type": "markdown",
   "metadata": {},
   "source": [
    "## 4. Define and solve the equilibrium problem"
   ]
  },
  {
   "cell_type": "markdown",
   "metadata": {},
   "source": [
    "### 4a. Set mass of hematite and magnetite to be added to system; calculate total moles of Fe to be added"
   ]
  },
  {
   "cell_type": "code",
   "execution_count": 90,
   "metadata": {
    "scrolled": true
   },
   "outputs": [
    {
     "name": "stdout",
     "output_type": "stream",
     "text": [
      "The molar mass of hematite is 159.6882028579712 g/mol and the molar mass of magnetite is 231.5326042175293 g/mol.\n",
      "0.025481545127003125 moles of Fe will be added to the system.\n"
     ]
    }
   ],
   "source": [
    "# mass of hematite and magnetite to be added\n",
    "mass_hematite = 1 # [g]\n",
    "mass_magnetite = 1 # [g]\n",
    "\n",
    "# determine molar mass of hematite and magnetite\n",
    "molar_mass_hematite = system.species()[1].molarMass() # [g*mol^-1]\n",
    "molar_mass_magnetite = system.species()[2].molarMass() # [g*mol^-1]\n",
    "print('The molar mass of hematite is ' + str(molar_mass_hematite) + \n",
    "      ' g/mol and the molar mass of magnetite is ' + str(molar_mass_magnetite) + ' g/mol.')\n",
    "\n",
    "# calculate moles of hematite and magnetite added to the system\n",
    "moles_hematite = mass_hematite/molar_mass_hematite # [mol]\n",
    "moles_magnetite = mass_magnetite/molar_mass_magnetite # [mol]\n",
    "\n",
    "#calculate total Fe added to the system\n",
    "moles_Fe_added = moles_hematite*2 + moles_magnetite*3\n",
    "print(str(moles_Fe_added) + ' moles of Fe will be added to the system.')"
   ]
  },
  {
   "cell_type": "markdown",
   "metadata": {},
   "source": [
    "### 4b. Add phases to system; solve equilibrium state"
   ]
  },
  {
   "cell_type": "code",
   "execution_count": 83,
   "metadata": {},
   "outputs": [
    {
     "data": {
      "text/plain": [
       "<reaktoro.PyReaktoro.EquilibriumResult at 0x11d3940b0>"
      ]
     },
     "execution_count": 83,
     "metadata": {},
     "output_type": "execute_result"
    }
   ],
   "source": [
    "problem = rkt.EquilibriumProblem(system)\n",
    "\n",
    "# add phases to system\n",
    "problem.add(\"Hematite\",mass_hematite,\"g\") \n",
    "problem.add(\"Magnetite\",mass_magnetite,\"g\") \n",
    "problem.add(\"O2\",10**-2,\"mol\")\n",
    "\n",
    "# set T,P\n",
    "problem.setPressure(1,\"bar\")\n",
    "problem.setTemperature(500,\"kelvin\")\n",
    "\n",
    "# determine equilibrium state\n",
    "solver = rkt.EquilibriumSolver(system)\n",
    "state = rkt.ChemicalState(system)\n",
    "solver.solve(state, problem)    \n",
    "\n",
    "#state.output"
   ]
  },
  {
   "cell_type": "markdown",
   "metadata": {},
   "source": [
    "### 4c. Determine amount of Fe reported to be in the system"
   ]
  },
  {
   "cell_type": "code",
   "execution_count": 84,
   "metadata": {},
   "outputs": [
    {
     "name": "stdout",
     "output_type": "stream",
     "text": [
      "2.5481545127003124e-05 moles of Fe reported to be in the system.\n"
     ]
    }
   ],
   "source": [
    "# determine mole amount Fe reported to be in the system\n",
    "moles_Fe_reported = state.elementAmount(\"Fe\") # [mol]\n",
    "\n",
    "print(str(moles_Fe_reported) + ' moles of Fe reported to be in the system.')"
   ]
  },
  {
   "cell_type": "markdown",
   "metadata": {},
   "source": [
    "Note the discrepancy between the moles of Fe added to the system (2.5E-2) and the moles of Fe reported to be in the system (2.5E-5). The 10^3 difference between the two can be eliminated by setting the units in, for example, `problem.add(\"Hematite\",mass_hematite,\"g\")` to `kg` (i.e., `problem.add(\"Hematite\",mass_hematite,\"kg\")`. This is of course inaccurate. "
   ]
  },
  {
   "cell_type": "markdown",
   "metadata": {},
   "source": [
    "## 5. Issue with formula parser when evaluating magnetite formula"
   ]
  },
  {
   "cell_type": "markdown",
   "metadata": {},
   "source": [
    "Furthermore, there is an issue with the formula parser for magnetite (it's not clear if this is a problem with `Reaktoro` or `ThermoFun`). For the entry \"Magnetite,\" the formula is given as \"Fe3O4.\" For the entry \"Magnetite_charge_specified,\" the formula is given as \"FeFe|3|2O4.\" The latter corresponds with the original entry in the mines16-thermofun.json data file; the former is the version I've corrected (both have been pasted into the data file for this notebook). Only the former (\"Fe3O4\") yields the correct molar mass, as can be seen below: "
   ]
  },
  {
   "cell_type": "code",
   "execution_count": 85,
   "metadata": {},
   "outputs": [
    {
     "name": "stdout",
     "output_type": "stream",
     "text": [
      "The molar mass of \"Magnetite\" is 231.5326042175293 g*mol^-1. \n",
      "The molar mass of \"Magnetite_charge_specified\" is 119.8426017761231 g*mol^-1. \n"
     ]
    }
   ],
   "source": [
    "# Define the chemical system\n",
    "editor1 = rkt.ChemicalEditor(database)\n",
    "editor1.addMineralPhase(['Magnetite', 'Magnetite_charge_specified']) \n",
    "\n",
    "# Construct the chemical system\n",
    "system1 = rkt.ChemicalSystem(editor1)\n",
    "\n",
    "# Determine molar mass of each\n",
    "print('The molar mass of \"Magnetite\" is ' + str(system1.species()[0].molarMass()) + ' g*mol^-1. ') # [g*mol^-1]\n",
    "print('The molar mass of \"Magnetite_charge_specified\" is ' + str(system1.species()[1].molarMass()) + ' g*mol^-1. ') # [g*mol^-1]\n"
   ]
  },
  {
   "cell_type": "code",
   "execution_count": null,
   "metadata": {},
   "outputs": [],
   "source": []
  }
 ],
 "metadata": {
  "kernelspec": {
   "display_name": "Python 3",
   "language": "python",
   "name": "python3"
  },
  "language_info": {
   "codemirror_mode": {
    "name": "ipython",
    "version": 3
   },
   "file_extension": ".py",
   "mimetype": "text/x-python",
   "name": "python",
   "nbconvert_exporter": "python",
   "pygments_lexer": "ipython3",
   "version": "3.8.5"
  },
  "toc": {
   "base_numbering": 1,
   "nav_menu": {},
   "number_sections": true,
   "sideBar": true,
   "skip_h1_title": false,
   "title_cell": "Table of Contents",
   "title_sidebar": "Contents",
   "toc_cell": false,
   "toc_position": {},
   "toc_section_display": true,
   "toc_window_display": false
  }
 },
 "nbformat": 4,
 "nbformat_minor": 4
}
