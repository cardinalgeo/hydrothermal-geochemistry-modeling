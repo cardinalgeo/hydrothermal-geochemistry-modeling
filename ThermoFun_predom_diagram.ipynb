{
 "cells": [
  {
   "cell_type": "markdown",
   "metadata": {},
   "source": [
    "# Building predominance diagrams using ThermoFun"
   ]
  },
  {
   "cell_type": "markdown",
   "metadata": {},
   "source": [
    "## Run the next two code cells if using Google Colab (setting up virtual environment)"
   ]
  },
  {
   "cell_type": "markdown",
   "metadata": {},
   "source": [
    "The Google Colab virtual environment comes with many python libraries pre-installed. However, some of the libraries we're interested in are not widely used and as a result are not pre-installed. To add them, we must first add `condacolab` to the virtual environment. "
   ]
  },
  {
   "cell_type": "code",
   "execution_count": null,
   "metadata": {
    "scrolled": true
   },
   "outputs": [],
   "source": [
    "!pip install -q condacolab\n",
    "import condacolab\n",
    "condacolab.install_miniforge()"
   ]
  },
  {
   "cell_type": "markdown",
   "metadata": {},
   "source": [
    "We can now use `conda`, a widely used package manager, to install the geochemistry libraries of interest in the virtual environment. "
   ]
  },
  {
   "cell_type": "code",
   "execution_count": null,
   "metadata": {},
   "outputs": [],
   "source": [
    "!conda install reaktoro\n",
    "!conda install thermofun\n",
    "!conda install thermohubclient"
   ]
  },
  {
   "cell_type": "markdown",
   "metadata": {},
   "source": [
    "## Main body of the notebook"
   ]
  },
  {
   "cell_type": "markdown",
   "metadata": {},
   "source": [
    "Import the necessary python libraries to the notebook."
   ]
  },
  {
   "cell_type": "code",
   "execution_count": null,
   "metadata": {},
   "outputs": [],
   "source": [
    "import thermofun as fun # thermo. properties at T,P\n",
    "import thermohubclient as client # get thermo. data\n",
    "\n",
    "import numpy as np # facilitate math \n",
    "import matplotlib.pyplot as plt # plotting"
   ]
  },
  {
   "cell_type": "markdown",
   "metadata": {},
   "source": [
    "Create a database object using the mines16 data file, which we can access from the ThermoFun server. "
   ]
  },
  {
   "cell_type": "code",
   "execution_count": null,
   "metadata": {},
   "outputs": [],
   "source": [
    "# download data file \n",
    "dbc = client.DatabaseClient()\n",
    "dbc.saveDatabase(\"mines16\")\n",
    "\n",
    "# create database object from data file\n",
    "database = fun.Database('./mines16-thermofun.json') "
   ]
  },
  {
   "cell_type": "markdown",
   "metadata": {},
   "source": [
    "For reference, the cell below produces a list of the symbols used to represent each substance in the database. "
   ]
  },
  {
   "cell_type": "code",
   "execution_count": null,
   "metadata": {},
   "outputs": [],
   "source": [
    "substances = database.mapSubstances()\n",
    "print(substances.keys())"
   ]
  },
  {
   "cell_type": "markdown",
   "metadata": {},
   "source": [
    "Create a ThermoFun \"engine\" object to calculate thermodynamic properties at the T,P of interest. "
   ]
  },
  {
   "cell_type": "code",
   "execution_count": null,
   "metadata": {},
   "outputs": [],
   "source": [
    "engine = fun.ThermoEngine(database)"
   ]
  },
  {
   "cell_type": "markdown",
   "metadata": {},
   "source": [
    "Set the temperature and pressure at which thermodynamic properties should be calculated. We'll use these variables throughout the rest of the notebook. "
   ]
  },
  {
   "cell_type": "code",
   "execution_count": null,
   "metadata": {},
   "outputs": [],
   "source": [
    "# set temperature and pressure\n",
    "T = 150 + 273.15 # [K]\n",
    "P = rkt.waterSaturatedPressureWagnerPruss(T).val # [Pa] saturated vapor pressure of water"
   ]
  },
  {
   "cell_type": "markdown",
   "metadata": {},
   "source": [
    "Specify the range of $pH$ and $log(fO_2)$ values for the plot. `np.arange` create a list of values—from the first value to one before the last—incremented by one. "
   ]
  },
  {
   "cell_type": "code",
   "execution_count": null,
   "metadata": {},
   "outputs": [],
   "source": [
    "pH_range = np.arange(1,14) \n",
    "logfO2_range = np.arange(-50,-19) "
   ]
  },
  {
   "cell_type": "markdown",
   "metadata": {},
   "source": [
    "Take the following reaction as an example: \n",
    "\n",
    "$$2O_{2(aq)} + HS^-_{(aq)} \\leftrightarrow SO_{4(aq)}^{-2} + H^+_{(aq)}$$\n",
    "\n",
    "Note that we're interested in $O_{2(g)}$ rather than $O_{2(aq)}$; we can convert to the former by adding the reaction $O_{2(g)} \\leftrightarrow O_{2(aq)}$ to the one above to get: \n",
    "\n",
    "$$2O_{2(g)} + HS^-_{(aq)} \\leftrightarrow SO_{4(aq)}^{-2} + H^+_{(aq)}$$\n",
    "\n",
    "\n",
    "We can write an expression for the equilibrium constant, $K$, as follows: \n",
    "\n",
    "$$K = \\frac{a_{SO_{4(aq)}^{-2}}a_{H^+_{(aq)}}}   {f_{O_{2(g)}}^2 a_{HS^-_{(aq)}}}$$\n",
    "\n",
    "By taking the log of each side, we can create a linear relationship between the log of each variable: \n",
    "\n",
    "$$logK = loga_{SO_{4(aq)}^{-2}} + loga_{H^+_{(aq)}} - 2logf_{O_{2(g)}} - loga_{HS^-_{(aq)}}$$\n",
    "\n",
    "and replace $loga_{H^+_{(aq)}}$ with pH using the definition for pH ($pH = -loga_{H^+_{(aq)}}$): \n",
    "\n",
    "$$logK = loga_{SO_{4(aq)}^{-2}} -pH - 2logf_{O_{2(g)}} - loga_{HS^-_{(aq)}}$$\n",
    "\n",
    "\n",
    "In order to plot this reaction in $log(fO_2)$-pH space, we need to reduce the number of variables to two (i.e., $log(fO_2)$ and pH). We can calculate the logK of the reaction for a specific temperature and pressure using ThermoFun, reducing the number of variables by one. We can reach our target variables by making this reaction a predominance boundary for S species (i.e., on either side of the boundary one of the two S species is more abundant, and at the boundary they are found in equal proportions). This allows us to cancel out $loga_{SO_{4(aq)}^{-2}}$ and $loga_{HS^-_{(aq)}}$, as the values for each are equal at the predominance boundary. We are left with: \n",
    "\n",
    "$$logK = -pH - 2logf_{O_{2(g)}}$$\n",
    "\n",
    "Rearranging so that our dependent (i.e., y-axis) variable is on the left and our independent (i.e., x-axis) variable is on the right, we have: \n",
    "\n",
    "$$logf_{O_{2(g)}} = -\\frac{1}{2}pH - \\frac{1}{2}logK$$\n",
    "\n",
    "We can then calculate $logK$ for the reaction and subsequently calculate $logf_{O_{2(g)}}$, using that value, for a range of pH values: "
   ]
  },
  {
   "cell_type": "code",
   "execution_count": 26,
   "metadata": {},
   "outputs": [],
   "source": [
    "logK = engine.thermoPropertiesReaction(T, P, \"2O2 + HS- = SO4-2 + H+\").log_equilibrium_constant.val\n",
    "logfO2 = -0.5*pH_range - 0.5*logK"
   ]
  },
  {
   "cell_type": "markdown",
   "metadata": {},
   "source": [
    "Finally, we can plot the results as follows: "
   ]
  },
  {
   "cell_type": "code",
   "execution_count": null,
   "metadata": {},
   "outputs": [],
   "source": [
    "fig, ax  = plt.subplots(figsize=[12,8]) # create figure and axis objects\n",
    "\n",
    "ax.plot(pH_range, logfO2) # plot values\n",
    "\n",
    "# set x and y axis labels\n",
    "ax.set_xlabel('pH')\n",
    "ax.set_ylabel('logfO2')"
   ]
  },
  {
   "cell_type": "code",
   "execution_count": null,
   "metadata": {},
   "outputs": [],
   "source": []
  }
 ],
 "metadata": {
  "kernelspec": {
   "display_name": "Python [conda env:geochem_model_env] *",
   "language": "python",
   "name": "conda-env-geochem_model_env-py"
  },
  "language_info": {
   "codemirror_mode": {
    "name": "ipython",
    "version": 3
   },
   "file_extension": ".py",
   "mimetype": "text/x-python",
   "name": "python",
   "nbconvert_exporter": "python",
   "pygments_lexer": "ipython3",
   "version": "3.8.5"
  }
 },
 "nbformat": 4,
 "nbformat_minor": 4
}
