{
 "cells": [
  {
   "cell_type": "markdown",
   "metadata": {},
   "source": [
    "# Aqueous speciation in the system Cu-O-H\n",
    "In this notebook, I determine the speciation of Cu in an aqueous solution under hydrothermal conditions. "
   ]
  },
  {
   "cell_type": "markdown",
   "metadata": {},
   "source": [
    "## 1. Import Libraries"
   ]
  },
  {
   "cell_type": "code",
   "execution_count": 30,
   "metadata": {},
   "outputs": [],
   "source": [
    "import thermofun as fun\n",
    "import reaktoro as rkt"
   ]
  },
  {
   "cell_type": "markdown",
   "metadata": {},
   "source": [
    "## 2. Initialize a thermodynamic database; check the contents of the database"
   ]
  },
  {
   "cell_type": "code",
   "execution_count": 31,
   "metadata": {},
   "outputs": [],
   "source": [
    "database = fun.Database('./troubleshooting/databases/Cu_aq_speciation.json')"
   ]
  },
  {
   "cell_type": "markdown",
   "metadata": {},
   "source": [
    "## 3. Set temperature and pressure conditions"
   ]
  },
  {
   "cell_type": "code",
   "execution_count": 64,
   "metadata": {},
   "outputs": [],
   "source": [
    "T = 200 + 273.15 # [K] git commit -m 'prepare nb for gitter message about charge imbalance'\n",
    "P = 15 # [bar] saturated water vapor pressure"
   ]
  },
  {
   "cell_type": "markdown",
   "metadata": {},
   "source": [
    "## 4. Define and construct the chemical system"
   ]
  },
  {
   "cell_type": "code",
   "execution_count": 65,
   "metadata": {},
   "outputs": [],
   "source": [
    "# Define the chemical system\n",
    "editor = rkt.ChemicalEditor(database)\n",
    "editor.addAqueousPhase(\n",
    "    ['Cu+', 'H2O@', 'Cl-'])\n",
    "# Construct the chemical system\n",
    "system = rkt.ChemicalSystem(editor)"
   ]
  },
  {
   "cell_type": "markdown",
   "metadata": {},
   "source": [
    "## 5. Define the chemical equilibrium problem"
   ]
  },
  {
   "cell_type": "code",
   "execution_count": 66,
   "metadata": {},
   "outputs": [
    {
     "data": {
      "text/plain": [
       "<reaktoro.PyReaktoro.EquilibriumProblem at 0x11f6b5070>"
      ]
     },
     "execution_count": 66,
     "metadata": {},
     "output_type": "execute_result"
    }
   ],
   "source": [
    "problem = rkt.EquilibriumProblem(system)\n",
    "problem.add(\"Cu\",0.00015,\"mol\")\n",
    "problem.add(\"Cl\",15,\"mol\")\n",
    "problem.add(\"H2O\",1,\"kg\")\n",
    "problem.setPressure(P, \"bar\")\n",
    "problem.setTemperature(T, \"kelvin\")"
   ]
  },
  {
   "cell_type": "markdown",
   "metadata": {},
   "source": [
    "## 6. Calculate the chemical equilibrium state"
   ]
  },
  {
   "cell_type": "code",
   "execution_count": 67,
   "metadata": {},
   "outputs": [
    {
     "name": "stdout",
     "output_type": "stream",
     "text": [
      "=================================================================================================================================================================================================================================\n",
      "Temperature [K]          Temperature [C]          Pressure [Pa]            Pressure [bar]           \n",
      "---------------------------------------------------------------------------------------------------------------------------------------------------------------------------------------------------------------------------------\n",
      "473.15                   200                      1.5e+06                  15                       \n",
      "=================================================================================================================================================================================================================================\n",
      "Element                  Amount [mol]             Aqueous [mol]            Dual Potential [kJ/mol]  \n",
      "---------------------------------------------------------------------------------------------------------------------------------------------------------------------------------------------------------------------------------\n",
      "Cl                       15                       15                       -127.302                 \n",
      "Cu                       0.00015                  0.00015                  -28.3279                 \n",
      "H                        111.017                  111.017                  -126.871                 \n",
      "O                        55.5084                  55.5084                  0                        \n",
      "Z                        -14.9999                 -14.9999                 0                        \n",
      "=================================================================================================================================================================================================================================\n",
      "Species                  Amount [mol]             Mole Fraction [mol/mol]  Activity Coefficient [-] Activity [-]             Potential [kJ/mol]       Dual Potential [kJ/mol]  \n",
      "---------------------------------------------------------------------------------------------------------------------------------------------------------------------------------------------------------------------------------\n",
      "Cu+                      0.00015                  2.1274e-06               0.629523                 9.44285e-05              -28.3279                 2.62266e-16              \n",
      "H2O@                     55.5084                  0.787258                 0.97283                  0.765868                 -253.741                 7.08719e-22              \n",
      "Cl-                      15                       0.21274                  0.61385                  9.20775                  -127.302                 2.62266e-21              \n",
      "=================================================================================================================================================================================================================================\n",
      "Phase                    Amount [mol]             Stability                Stability Index [-]      Mass [kg]                Volume [m3]              Density [kg/m3]          Molar Volume [m3/mol]    Volume Fraction [m3/m3]  \n",
      "---------------------------------------------------------------------------------------------------------------------------------------------------------------------------------------------------------------------------------\n",
      "Aqueous                  70.5086                  stable                   -4.82164e-17             1531.81                  0.00120039               1.27609e+06              1.70247e-05              1                        \n",
      "=================================================================================================================================================================================================================================\n",
      "Ionic Strength [molal]   pH                       pE                       Reduction Potential [V]  Alkalinity [eq/L]        \n",
      "---------------------------------------------------------------------------------------------------------------------------------------------------------------------------------------------------------------------------------\n",
      "7.50008                  -1.32158e-309            0                        0                        -12.4959                 \n",
      "=================================================================================================================================================================================================================================\n",
      "\n"
     ]
    }
   ],
   "source": [
    "state = rkt.equilibrate(problem)\n",
    "print(state)"
   ]
  }
 ],
 "metadata": {
  "kernelspec": {
   "display_name": "Python 3",
   "language": "python",
   "name": "python3"
  },
  "language_info": {
   "codemirror_mode": {
    "name": "ipython",
    "version": 3
   },
   "file_extension": ".py",
   "mimetype": "text/x-python",
   "name": "python",
   "nbconvert_exporter": "python",
   "pygments_lexer": "ipython3",
   "version": "3.8.5"
  }
 },
 "nbformat": 4,
 "nbformat_minor": 4
}
