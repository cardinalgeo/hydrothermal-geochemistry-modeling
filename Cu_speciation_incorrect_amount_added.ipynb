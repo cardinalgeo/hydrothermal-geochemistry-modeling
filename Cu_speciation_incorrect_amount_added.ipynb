{
 "cells": [
  {
   "cell_type": "markdown",
   "metadata": {},
   "source": [
    "# Aqueous speciation in the system Cu-O-H\n",
    "In this notebook, I determine the speciation of Cu in an aqueous solution under hydrothermal conditions. "
   ]
  },
  {
   "cell_type": "markdown",
   "metadata": {},
   "source": [
    "## 1. Import Libraries"
   ]
  },
  {
   "cell_type": "code",
   "execution_count": 30,
   "metadata": {},
   "outputs": [],
   "source": [
    "import thermofun as fun\n",
    "import reaktoro as rkt"
   ]
  },
  {
   "cell_type": "markdown",
   "metadata": {},
   "source": [
    "## 2. Initialize a thermodynamic database; check the contents of the database"
   ]
  },
  {
   "cell_type": "code",
   "execution_count": 31,
   "metadata": {},
   "outputs": [],
   "source": [
    "database = fun.Database('./troubleshooting/databases/Cu_aq_speciation.json')"
   ]
  },
  {
   "cell_type": "markdown",
   "metadata": {},
   "source": [
    "## 3. Set temperature and pressure conditions"
   ]
  },
  {
   "cell_type": "code",
   "execution_count": 33,
   "metadata": {},
   "outputs": [],
   "source": [
    "T = 200 + 273.15 # [K]\n",
    "P = 15 # [bar] saturated water vapor pressure"
   ]
  },
  {
   "cell_type": "markdown",
   "metadata": {},
   "source": [
    "## 4. Define and construct the chemical system"
   ]
  },
  {
   "cell_type": "code",
   "execution_count": 35,
   "metadata": {},
   "outputs": [],
   "source": [
    "# Define the chemical system\n",
    "editor = rkt.ChemicalEditor(database)\n",
    "editor.addAqueousPhase(\n",
    "    ['Cu+', 'Cu+2', 'H2O@'])\n",
    "# Construct the chemical system\n",
    "system = rkt.ChemicalSystem(editor)"
   ]
  },
  {
   "cell_type": "markdown",
   "metadata": {},
   "source": [
    "## 5. Define the chemical equilibrium problem"
   ]
  },
  {
   "cell_type": "code",
   "execution_count": 36,
   "metadata": {},
   "outputs": [
    {
     "data": {
      "text/plain": [
       "<reaktoro.PyReaktoro.EquilibriumProblem at 0x10e1a5b70>"
      ]
     },
     "execution_count": 36,
     "metadata": {},
     "output_type": "execute_result"
    }
   ],
   "source": [
    "problem = rkt.EquilibriumProblem(system)\n",
    "problem.add(\"Cu\",0.015,\"mol\")\n",
    "problem.add(\"H2O\",1,\"kg\")\n",
    "problem.setPressure(P, \"bar\")\n",
    "problem.setTemperature(T, \"kelvin\")"
   ]
  },
  {
   "cell_type": "markdown",
   "metadata": {},
   "source": [
    "## 6. Calculate the chemical equilibrium state"
   ]
  },
  {
   "cell_type": "code",
   "execution_count": 37,
   "metadata": {},
   "outputs": [
    {
     "name": "stdout",
     "output_type": "stream",
     "text": [
      "=================================================================================================================================================================================================================================\n",
      "Temperature [K]          Temperature [C]          Pressure [Pa]            Pressure [bar]           \n",
      "---------------------------------------------------------------------------------------------------------------------------------------------------------------------------------------------------------------------------------\n",
      "473.15                   200                      1.5e+06                  15                       \n",
      "=================================================================================================================================================================================================================================\n",
      "Element                  Amount [mol]             Aqueous [mol]            Dual Potential [kJ/mol]  \n",
      "---------------------------------------------------------------------------------------------------------------------------------------------------------------------------------------------------------------------------------\n",
      "Cu                       2e-20                    2e-20                    0                        \n",
      "H                        111.017                  111.017                  -126.346                 \n",
      "O                        55.5084                  55.5084                  0                        \n",
      "Z                        3e-20                    3e-20                    0                        \n",
      "=================================================================================================================================================================================================================================\n",
      "Species                  Amount [mol]             Mole Fraction [mol/mol]  Activity Coefficient [-] Activity [-]             Potential [kJ/mol]       Dual Potential [kJ/mol]  \n",
      "---------------------------------------------------------------------------------------------------------------------------------------------------------------------------------------------------------------------------------\n",
      "Cu+                      1e-20                    1.80153e-22              1                        1e-20                    -173.036                 0                        \n",
      "Cu+2                     1e-20                    1.80153e-22              1                        1e-20                    -161.02                  0                        \n",
      "H2O@                     55.5084                  1                        1                        1                        -252.692                 7.08719e-22              \n",
      "=================================================================================================================================================================================================================================\n",
      "Phase                    Amount [mol]             Stability                Stability Index [-]      Mass [kg]                Volume [m3]              Density [kg/m3]          Molar Volume [m3/mol]    Volume Fraction [m3/m3]  \n",
      "---------------------------------------------------------------------------------------------------------------------------------------------------------------------------------------------------------------------------------\n",
      "Aqueous                  55.5084                  stable                    0                       1000                     0.00115659               864613                   2.08363e-05              1                        \n",
      "=================================================================================================================================================================================================================================\n",
      "Ionic Strength [molal]   pH                       pE                       Reduction Potential [V]  Alkalinity [eq/L]        \n",
      "---------------------------------------------------------------------------------------------------------------------------------------------------------------------------------------------------------------------------------\n",
      "2.5e-20                  -1.20792e-309            1.32653                  0.124539                 0                        \n",
      "=================================================================================================================================================================================================================================\n",
      "\n"
     ]
    }
   ],
   "source": [
    "state = rkt.equilibrate(problem)\n",
    "print(state)"
   ]
  }
 ],
 "metadata": {
  "kernelspec": {
   "display_name": "Python 3",
   "language": "python",
   "name": "python3"
  },
  "language_info": {
   "codemirror_mode": {
    "name": "ipython",
    "version": 3
   },
   "file_extension": ".py",
   "mimetype": "text/x-python",
   "name": "python",
   "nbconvert_exporter": "python",
   "pygments_lexer": "ipython3",
   "version": "3.8.5"
  }
 },
 "nbformat": 4,
 "nbformat_minor": 4
}
