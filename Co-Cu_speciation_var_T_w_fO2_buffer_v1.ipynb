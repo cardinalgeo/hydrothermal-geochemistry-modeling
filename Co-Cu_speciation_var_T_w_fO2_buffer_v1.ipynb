{
 "cells": [
  {
   "cell_type": "code",
   "execution_count": 84,
   "metadata": {
    "slideshow": {
     "slide_type": "-"
    }
   },
   "outputs": [],
   "source": [
    "import thermofun as fun # thermo. properties at T,P\n",
    "import reaktoro as rkt # Gibbs free energy minimization\n",
    "import numpy as np # math \n",
    "import matplotlib.pyplot as plt # plotting\n",
    "import random # randomization"
   ]
  },
  {
   "cell_type": "markdown",
   "metadata": {
    "slideshow": {
     "slide_type": "slide"
    }
   },
   "source": [
    "## 2. Initialize a thermodynamic database"
   ]
  },
  {
   "cell_type": "code",
   "execution_count": 2,
   "metadata": {
    "slideshow": {
     "slide_type": "-"
    }
   },
   "outputs": [],
   "source": [
    "database = fun.Database('./databases/Willy_ThermoFun_db.json')\n",
    "database.appendData('./databases/elements.json') # append element data & data for H2O(l), OH-, and H+ to database\n",
    "database.appendData('./databases/Willy_ThermoFun_db.json') # append data for Cu and Co species with correct units\n",
    "database.appendData('./databases/Co_complexes.json') # append data for Co complexes\n",
    "database.appendData('./databases/fO2_buffers.json') "
   ]
  },
  {
   "cell_type": "markdown",
   "metadata": {
    "slideshow": {
     "slide_type": "slide"
    }
   },
   "source": [
    "### 2a. Check the contents of the database (optional)"
   ]
  },
  {
   "cell_type": "code",
   "execution_count": 3,
   "metadata": {
    "slideshow": {
     "slide_type": "-"
    }
   },
   "outputs": [],
   "source": [
    "substances = database.mapSubstances()\n",
    "# print(substances.keys())"
   ]
  },
  {
   "cell_type": "markdown",
   "metadata": {
    "slideshow": {
     "slide_type": "slide"
    }
   },
   "source": [
    "## 3. Define and construct the chemical system"
   ]
  },
  {
   "cell_type": "markdown",
   "metadata": {
    "slideshow": {
     "slide_type": "subslide"
    }
   },
   "source": [
    "### 3a. Define and construct the main system"
   ]
  },
  {
   "cell_type": "code",
   "execution_count": 4,
   "metadata": {
    "slideshow": {
     "slide_type": "-"
    }
   },
   "outputs": [],
   "source": [
    "# Define the chemical system\n",
    "editor = rkt.ChemicalEditor(database)\n",
    "aqueousphase = editor.addAqueousPhaseWithElements([\n",
    "    'H', 'O', 'Cl', 'Na', 'S', 'Co', 'Cu'])\n",
    "aqueousphase.setChemicalModelDebyeHuckel()\n",
    "editor.addGaseousPhase([\n",
    "    'O2,rg', 'H2O,rg'])\n",
    "editor.addMineralPhase([\n",
    "    'Co-pentlandite', 'Chalcocite'])\n",
    "\n",
    "# Construct the chemical system\n",
    "system = rkt.ChemicalSystem(editor)"
   ]
  },
  {
   "cell_type": "markdown",
   "metadata": {
    "slideshow": {
     "slide_type": "subslide"
    }
   },
   "source": [
    "### 3b. Partition the main chemical system in order to fix $fO_2$ according to the $fO_2$ buffer reaction"
   ]
  },
  {
   "cell_type": "code",
   "execution_count": 5,
   "metadata": {
    "slideshow": {
     "slide_type": "-"
    }
   },
   "outputs": [],
   "source": [
    "partition = rkt.Partition(system)\n",
    "partition.setInertSpecies(['O2,rg'])"
   ]
  },
  {
   "cell_type": "markdown",
   "metadata": {
    "slideshow": {
     "slide_type": "subslide"
    }
   },
   "source": [
    "### 3c. Define the $fO_2$ buffer reaction\n",
    "$$2NiO_{(s)} \\leftrightarrow 2Ni_{(s)} + O_{2(g)}$$\n",
    "$$K = fO_2$$\n",
    "$$logK = logfO_2$$\n",
    "$$fO_2 = 10^{logK}$$"
   ]
  },
  {
   "cell_type": "code",
   "execution_count": 6,
   "metadata": {},
   "outputs": [],
   "source": [
    "# initialize ThermoFun engine for calculation of fO2 buffer reaction properties\n",
    "engine = fun.ThermoEngine(database)\n",
    "# define fO2 buffer reaction\n",
    "fO2_buffer_rxn = \"2Bsn = 2Nickel + O2,rg\""
   ]
  },
  {
   "cell_type": "markdown",
   "metadata": {
    "slideshow": {
     "slide_type": "slide"
    }
   },
   "source": [
    "## 4. Set temperature and pressure conditions"
   ]
  },
  {
   "cell_type": "code",
   "execution_count": 7,
   "metadata": {
    "slideshow": {
     "slide_type": "-"
    }
   },
   "outputs": [],
   "source": [
    "temperature = np.linspace(150,325,num=50) + 273.15 # [K]\n",
    "\n",
    "# set saturated water vapor pressure\n",
    "pressure = np.zeros(len(temperature))\n",
    "for i,T in enumerate(temperature):\n",
    "    pressure[i] = rkt.waterSaturatedPressureWagnerPruss(T).val/100000 # [bar] "
   ]
  },
  {
   "cell_type": "markdown",
   "metadata": {
    "slideshow": {
     "slide_type": "slide"
    }
   },
   "source": [
    "## 5. Set pH and chlorinity conditions"
   ]
  },
  {
   "cell_type": "code",
   "execution_count": 40,
   "metadata": {
    "slideshow": {
     "slide_type": "-"
    }
   },
   "outputs": [],
   "source": [
    "pH = 2\n",
    "# chlorinity\n",
    "amount_Cl = 0.5 # [molal]"
   ]
  },
  {
   "cell_type": "markdown",
   "metadata": {
    "slideshow": {
     "slide_type": "slide"
    }
   },
   "source": [
    "## 6. Define the equilibrium problem"
   ]
  },
  {
   "cell_type": "code",
   "execution_count": 41,
   "metadata": {
    "slideshow": {
     "slide_type": "subslide"
    }
   },
   "outputs": [],
   "source": [
    "problems = []\n",
    "for T,P in zip(temperature,pressure): \n",
    "    # define main equilibrium problem\n",
    "    problem = rkt.EquilibriumProblem(system)\n",
    "    \n",
    "    # set extensive properties of system\n",
    "    amount_H2O = 0.015 # [kg]\n",
    "    problem.add(\"H2O\",amount_H2O,\"kg\")\n",
    "    problem.add(\"HCl\",(10**-pH)*amount_H2O,\"mol\")\n",
    "    problem.add(\"NaCl\",(amount_Cl - (10**-pH))*amount_H2O,\"mol\")\n",
    "    problem.add(\"CuCo2S4\",0.1,\"g\") # 0.00007,\"mol\"\n",
    "    \n",
    "    ## add O2 according to logK calculated for fO2 buffer rxn\n",
    "    rxn_properties = engine.thermoPropertiesReaction(T, P, fO2_buffer_rxn) \n",
    "    logK = rxn_properties.log_equilibrium_constant\n",
    "    amount_O2 = (10**logK.val)*250/(8.314E-2*298.15) # [mol] assume fO2 = K, 250 mL autoclave vol., 25 °C, ideal gas\n",
    "    problem.add(\"O2,rg\",amount_O2,\"mol\")\n",
    "    \n",
    "    # set intensive properties of system\n",
    "    problem.setTemperature(T,\"kelvin\")\n",
    "    problem.setPressure(P,\"bar\")\n",
    "    \n",
    "    problems.append(problem) # append the new problem onto problems"
   ]
  },
  {
   "cell_type": "markdown",
   "metadata": {
    "slideshow": {
     "slide_type": "slide"
    }
   },
   "source": [
    "## 7. Solve equilibrium states"
   ]
  },
  {
   "cell_type": "markdown",
   "metadata": {
    "slideshow": {
     "slide_type": "subslide"
    }
   },
   "source": [
    "### 7a. Set some model parameters"
   ]
  },
  {
   "cell_type": "code",
   "execution_count": 42,
   "metadata": {
    "slideshow": {
     "slide_type": "-"
    }
   },
   "outputs": [],
   "source": [
    "# set minimum value for equilibrium calculation\n",
    "options = rkt.EquilibriumOptions()\n",
    "options.optimum.output.active = True\n",
    "options.epsilon = 1e-20"
   ]
  },
  {
   "cell_type": "markdown",
   "metadata": {
    "slideshow": {
     "slide_type": "subslide"
    }
   },
   "source": [
    "### 7b. Solve!"
   ]
  },
  {
   "cell_type": "code",
   "execution_count": 43,
   "metadata": {
    "slideshow": {
     "slide_type": "-"
    }
   },
   "outputs": [],
   "source": [
    "solver = rkt.EquilibriumSolver(system)\n",
    "states = [rkt.ChemicalState(system) for _ in range(len(problems))]\n",
    "solver.setOptions(options)\n",
    "for i in range(len(problems)): \n",
    "    solver.solve(states[i], problems[i])"
   ]
  },
  {
   "cell_type": "markdown",
   "metadata": {
    "slideshow": {
     "slide_type": "slide"
    }
   },
   "source": [
    "## 8. Get species with elements of interest"
   ]
  },
  {
   "cell_type": "markdown",
   "metadata": {
    "slideshow": {
     "slide_type": "subslide"
    }
   },
   "source": [
    "### 8a. Define a function to get species"
   ]
  },
  {
   "cell_type": "code",
   "execution_count": 44,
   "metadata": {
    "slideshow": {
     "slide_type": "-"
    }
   },
   "outputs": [],
   "source": [
    "def get_species_w_elements(elements): \n",
    "    matrix = system.formulaMatrix()\n",
    "    species_names = []\n",
    "    for j in range(len(elements)):\n",
    "        species_names_list = []\n",
    "        for i in range(len(matrix[system.indexElement(elements[j])])): \n",
    "            if matrix[system.indexElement(elements[j])][i] == 1:\n",
    "                species_names_list.append(system.species(i).name())\n",
    "        species_names.append(species_names_list)\n",
    "    return species_names"
   ]
  },
  {
   "cell_type": "markdown",
   "metadata": {
    "slideshow": {
     "slide_type": "subslide"
    }
   },
   "source": [
    "### 8b. Get species"
   ]
  },
  {
   "cell_type": "code",
   "execution_count": 45,
   "metadata": {
    "slideshow": {
     "slide_type": "-"
    }
   },
   "outputs": [
    {
     "name": "stdout",
     "output_type": "stream",
     "text": [
      "[['Cu(HS)2-', 'Cu(OH)2-', 'Cu+', 'Cu++', 'CuCl', 'CuCl+', 'CuCl2', 'CuCl2-', 'CuCl3-', 'CuCl3--', 'CuCl4--', 'CuHS', 'CuO', 'CuO2--', 'CuOH', 'CuOH+', 'HCuO2-'], ['Co++', 'Co+++', 'CoCl+', 'CoCl2@', 'CoCl3-', 'CoCl4-2', 'CoH2S+2', 'CoHS+', 'CoO', 'CoO2--', 'CoOH+', 'CoOH++', 'HCoO2-']]\n"
     ]
    }
   ],
   "source": [
    "species_names = get_species_w_elements([\"Cu\", \"Co\"])\n",
    "print(species_names)"
   ]
  },
  {
   "cell_type": "markdown",
   "metadata": {
    "slideshow": {
     "slide_type": "slide"
    }
   },
   "source": [
    "## 9. Get equilibrium amounts of above species "
   ]
  },
  {
   "cell_type": "markdown",
   "metadata": {
    "slideshow": {
     "slide_type": "subslide"
    }
   },
   "source": [
    "### 9a. Define a function to get amounts of species"
   ]
  },
  {
   "cell_type": "code",
   "execution_count": 46,
   "metadata": {
    "slideshow": {
     "slide_type": "-"
    }
   },
   "outputs": [],
   "source": [
    "def get_species_amounts(species_names): \n",
    "    species_amounts = []\n",
    "    for j in range(len(species_names)): \n",
    "        species_amount = []\n",
    "        for i in range(len(species_names[j])): \n",
    "            species_amount.append([state.speciesAmount(species_names[j][i]) for state in states])\n",
    "        species_amounts.append(species_amount)\n",
    "    return species_amounts"
   ]
  },
  {
   "cell_type": "markdown",
   "metadata": {
    "slideshow": {
     "slide_type": "subslide"
    }
   },
   "source": [
    "### 9b. Get species amounts"
   ]
  },
  {
   "cell_type": "code",
   "execution_count": 47,
   "metadata": {
    "slideshow": {
     "slide_type": "-"
    }
   },
   "outputs": [],
   "source": [
    "species_amounts = get_species_amounts(species_names)"
   ]
  },
  {
   "cell_type": "markdown",
   "metadata": {
    "slideshow": {
     "slide_type": "subslide"
    }
   },
   "source": [
    "### 9c. Convert to relative species amounts"
   ]
  },
  {
   "cell_type": "code",
   "execution_count": 48,
   "metadata": {},
   "outputs": [],
   "source": [
    "def get_rel_species_amounts(species_amounts):\n",
    "    rel_species_amounts = species_amounts\n",
    "    total_mol = [[0 for jj in range(len(species_amounts[ii][0]))] for ii in range(len(species_amounts))]\n",
    "    for i in range(len(species_amounts)): # loop through elements\n",
    "        for j in range(len(species_amounts[i][0])): # loop states\n",
    "            for k in range(len(species_amounts[i])): # loop species\n",
    "                total_mol[i][j] = total_mol[i][j] + species_amounts[i][k][j]\n",
    "            for m in range(len(species_amounts[i])):\n",
    "                rel_species_amounts[i][m][j] = species_amounts[i][m][j]/total_mol[i][j]\n",
    "\n",
    "    return rel_species_amounts, total_mol"
   ]
  },
  {
   "cell_type": "markdown",
   "metadata": {
    "slideshow": {
     "slide_type": "subslide"
    }
   },
   "source": [
    "### 9d. Get relative species amounts"
   ]
  },
  {
   "cell_type": "code",
   "execution_count": 49,
   "metadata": {},
   "outputs": [],
   "source": [
    "rel_species_amounts, total_mol = get_rel_species_amounts(species_amounts)"
   ]
  },
  {
   "cell_type": "markdown",
   "metadata": {
    "slideshow": {
     "slide_type": "slide"
    }
   },
   "source": [
    "## 9. Plot the results"
   ]
  },
  {
   "cell_type": "markdown",
   "metadata": {
    "slideshow": {
     "slide_type": "subslide"
    }
   },
   "source": [
    "### 9a. Define function for plotting a custom figure"
   ]
  },
  {
   "cell_type": "code",
   "execution_count": 50,
   "metadata": {
    "slideshow": {
     "slide_type": "subslide"
    }
   },
   "outputs": [],
   "source": [
    "def custom_figure(x, y, fig, ax, legend_items=None, \n",
    "                  y_label=None, title=None, colors=None, plot_kwargs={}, legend_kwargs={}): \n",
    "    \n",
    "    # set figure size\n",
    "    fig.set_figheight(8)\n",
    "    fig.set_figwidth(12)\n",
    "    \n",
    "    # set curve colors\n",
    "    ax.set_prop_cycle('color', colors)\n",
    "    \n",
    "    # set background color\n",
    "    ax.set_facecolor('w')\n",
    "    \n",
    "    # plot each curve\n",
    "    ax.plot(x, np.transpose(y), **plot_kwargs)\n",
    "    \n",
    "    # define and place the legend\n",
    "    ax.legend(legend_items, bbox_to_anchor=(1.04,1), loc=\"upper left\", prop={\"size\":15}, **legend_kwargs)\n",
    "    \n",
    "    # set axes labels and title\n",
    "    ax.set_xlabel('temperature (°C)')  \n",
    "    ax.set_ylabel(y_label)  \n",
    "    ax.set_title(title)   "
   ]
  },
  {
   "cell_type": "markdown",
   "metadata": {
    "slideshow": {
     "slide_type": "subslide"
    }
   },
   "source": [
    "### 9b. Plot Cu species"
   ]
  },
  {
   "cell_type": "code",
   "execution_count": 51,
   "metadata": {
    "slideshow": {
     "slide_type": "subslide"
    }
   },
   "outputs": [],
   "source": [
    "# set colors copied from [Colorgorical](http://vrl.cs.brown.edu/color)\n",
    "colors0 = [\"#a0e3b7\", \"#1c5872\", \"#37d356\", \"#860967\", \"#1aa7ee\", \"#473c85\", \n",
    "            \"#8fba06\", \"#6314af\", \"#fd92fa\", \"#1d6d1f\", \"#f7393a\", \"#fbd127\", \n",
    "            \"#873c1a\", \"#ffb4a2\", \"#464a15\", \"#d6bcf5\", \"#627de3\"]\n",
    "# shuffle color order\n",
    "random.shuffle(colors0)"
   ]
  },
  {
   "cell_type": "code",
   "execution_count": 52,
   "metadata": {
    "slideshow": {
     "slide_type": "subslide"
    }
   },
   "outputs": [
    {
     "data": {
      "image/png": "[encoded data removed]",
      "text/plain": [
       "<Figure size 864x576 with 1 Axes>"
      ]
     },
     "metadata": {
      "needs_background": "light"
     },
     "output_type": "display_data"
    }
   ],
   "source": [
    "# set figure and axes\n",
    "fig0, ax0 = plt.subplots()\n",
    "\n",
    "# plot data\n",
    "custom_figure(temperature-273.15, rel_species_amounts[0], fig0, ax0, \n",
    "              legend_items=species_names[0],\n",
    "              colors=colors0,\n",
    "              y_label='Species in solution (mole fraction of all Cu species)')\n"
   ]
  },
  {
   "cell_type": "markdown",
   "metadata": {
    "slideshow": {
     "slide_type": "subslide"
    }
   },
   "source": [
    "### 9c. Plot Co species"
   ]
  },
  {
   "cell_type": "code",
   "execution_count": 53,
   "metadata": {
    "slideshow": {
     "slide_type": "subslide"
    }
   },
   "outputs": [],
   "source": [
    "# set colors copied from [Colorgorical](http://vrl.cs.brown.edu/color)\n",
    "colors1 = [\"#41bbc5\", \"#422fae\", \"#a5d65a\", \"#b12060\", \"#42f18f\", \"#275b52\", \"#d5d2e7\", \n",
    "           \"#2c457d\", \"#faafe3\", \"#658114\", \"#fb5de7\", \"#51f310\", \"#d11f0b\"]\n",
    "# shuffle color order\n",
    "random.shuffle(colors1)"
   ]
  },
  {
   "cell_type": "code",
   "execution_count": 54,
   "metadata": {
    "slideshow": {
     "slide_type": "subslide"
    }
   },
   "outputs": [
    {
     "data": {
      "image/png": "[encoded data removed]",
      "text/plain": [
       "<Figure size 864x576 with 1 Axes>"
      ]
     },
     "metadata": {
      "needs_background": "light"
     },
     "output_type": "display_data"
    }
   ],
   "source": [
    "# set figure and axes\n",
    "fig1, ax1 = plt.subplots()\n",
    "\n",
    "# plot data\n",
    "custom_figure(temperature-273.15, species_amounts[1], fig1, ax1, \n",
    "              legend_items=species_names[1],\n",
    "              colors=colors1,\n",
    "              y_label='Species in solution (mole fraction of all Co species)')\n"
   ]
  },
  {
   "cell_type": "markdown",
   "metadata": {
    "slideshow": {
     "slide_type": "slide"
    }
   },
   "source": [
    "## 10. Retrieve and plot ionic strength"
   ]
  },
  {
   "cell_type": "code",
   "execution_count": 55,
   "metadata": {
    "slideshow": {
     "slide_type": "subslide"
    }
   },
   "outputs": [],
   "source": [
    "def get_ionic_strength(): \n",
    "    ionic_strength = np.zeros(len(temperature))\n",
    "    for i,state in enumerate(states):\n",
    "        properties = state.properties()\n",
    "        ionic_strength_function = rkt.ChemicalProperty.ionicStrength(system)\n",
    "        ionic_strength[i] = ionic_strength_function(properties).val\n",
    "    return ionic_strength"
   ]
  },
  {
   "cell_type": "code",
   "execution_count": 56,
   "metadata": {
    "slideshow": {
     "slide_type": "-"
    }
   },
   "outputs": [],
   "source": [
    "ionic_strength = get_ionic_strength()"
   ]
  },
  {
   "cell_type": "code",
   "execution_count": 57,
   "metadata": {
    "slideshow": {
     "slide_type": "subslide"
    }
   },
   "outputs": [
    {
     "data": {
      "image/png": "[encoded data removed]",
      "text/plain": [
       "<Figure size 864x576 with 1 Axes>"
      ]
     },
     "metadata": {
      "needs_background": "light"
     },
     "output_type": "display_data"
    }
   ],
   "source": [
    "# set figure and axes\n",
    "fig2, ax2 = plt.subplots()\n",
    "ax2.set_ylim([0,1.1*max(ionic_strength)])\n",
    "# plot data\n",
    "custom_figure(temperature-273.15, ionic_strength, fig2, ax2, \n",
    "              legend_items=[\"ionic strength\"],\n",
    "              colors=colors1[3],\n",
    "              y_label='ionic strength (molal)')"
   ]
  },
  {
   "cell_type": "markdown",
   "metadata": {
    "slideshow": {
     "slide_type": "slide"
    }
   },
   "source": [
    "## 10. Plot total Cu and Co in solution"
   ]
  },
  {
   "cell_type": "code",
   "execution_count": 59,
   "metadata": {
    "slideshow": {
     "slide_type": "subslide"
    }
   },
   "outputs": [
    {
     "data": {
      "text/plain": [
       "Text(0.5, 1.0, 'Total Cu and Co in solution')"
      ]
     },
     "execution_count": 59,
     "metadata": {},
     "output_type": "execute_result"
    },
    {
     "data": {
      "image/png": "[encoded data removed]",
      "text/plain": [
       "<Figure size 864x576 with 1 Axes>"
      ]
     },
     "metadata": {
      "needs_background": "light"
     },
     "output_type": "display_data"
    }
   ],
   "source": [
    "# set figure and axes\n",
    "fig3, ax3 = plt.subplots(figsize=[12,8])\n",
    "\n",
    "\n",
    "# plot data\n",
    "ax3.semilogy(temperature-273.15, total_mol[1])\n",
    "ax3.semilogy(temperature-273.15, total_mol[0])\n",
    "\n",
    "# define and place the legend\n",
    "ax3.legend(['Co','Cu'], bbox_to_anchor=(1.04,1), loc=\"upper left\", prop={\"size\":15})\n",
    "\n",
    "\n",
    "# set axes labels and title\n",
    "ax3.set_xlabel('temperature (°C)')  \n",
    "ax3.set_ylabel('Total in solution (m)')  \n",
    "ax3.set_title('Total Cu and Co in solution')   "
   ]
  },
  {
   "cell_type": "markdown",
   "metadata": {
    "slideshow": {
     "slide_type": "slide"
    }
   },
   "source": [
    "## 11. For reference, Ni-NiO logK"
   ]
  },
  {
   "cell_type": "code",
   "execution_count": 83,
   "metadata": {
    "slideshow": {
     "slide_type": "subslide"
    }
   },
   "outputs": [
    {
     "data": {
      "text/plain": [
       "Text(0.5, 0, 'temperature (°C)')"
      ]
     },
     "execution_count": 83,
     "metadata": {},
     "output_type": "execute_result"
    },
    {
     "data": {
      "image/png": "[encoded data removed]",
      "text/plain": [
       "<Figure size 864x576 with 1 Axes>"
      ]
     },
     "metadata": {
      "needs_background": "light"
     },
     "output_type": "display_data"
    },
    {
     "data": {
      "image/png": "[encoded data removed]",
      "text/plain": [
       "<Figure size 864x576 with 1 Axes>"
      ]
     },
     "metadata": {
      "needs_background": "light"
     },
     "output_type": "display_data"
    }
   ],
   "source": [
    "# set figure and axes\n",
    "fig4, ax4 = plt.subplots(figsize=[12,8])\n",
    "fig5, ax5 = plt.subplots(figsize=[12,8])\n",
    "for T,P in zip(temperature,pressure):\n",
    "    rxn_properties = engine.thermoPropertiesReaction(T, P, fO2_buffer_rxn) # 2Bsn = 2Nickel + O2,rg\n",
    "    logK = rxn_properties.log_equilibrium_constant\n",
    "\n",
    "    ax4.plot(T-273.15,logK.val,'.',color='blue')\n",
    "    \n",
    "    bunsenite_properties = engine.thermoPropertiesSubstance(T,P,'Bsn')\n",
    "    Cp = bunsenite_properties.heat_capacity_cp\n",
    "    ax5.plot(T-273.15,Cp.val,'.',color='blue')\n",
    "    \n",
    "ax4.set_ylabel('logK')\n",
    "ax4.set_xlabel('temperature (°C)')\n",
    "\n",
    "ax5.set_ylabel('Cp (J*mol^-1*K^-1)')\n",
    "ax5.set_xlabel('temperature (°C)')"
   ]
  },
  {
   "cell_type": "code",
   "execution_count": null,
   "metadata": {},
   "outputs": [],
   "source": []
  }
 ],
 "metadata": {
  "kernelspec": {
   "display_name": "Python 3",
   "language": "python",
   "name": "python3"
  },
  "language_info": {
   "codemirror_mode": {
    "name": "ipython",
    "version": 3
   },
   "file_extension": ".py",
   "mimetype": "text/x-python",
   "name": "python",
   "nbconvert_exporter": "python",
   "pygments_lexer": "ipython3",
   "version": "3.8.5"
  },
  "rise": {
   "scroll": true
  },
  "toc": {
   "base_numbering": 1,
   "nav_menu": {},
   "number_sections": true,
   "sideBar": true,
   "skip_h1_title": false,
   "title_cell": "Table of Contents",
   "title_sidebar": "Contents",
   "toc_cell": false,
   "toc_position": {},
   "toc_section_display": true,
   "toc_window_display": false
  }
 },
 "nbformat": 4,
 "nbformat_minor": 4
}
