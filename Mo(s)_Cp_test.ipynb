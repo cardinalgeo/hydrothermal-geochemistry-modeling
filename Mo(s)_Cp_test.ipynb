{
 "cells": [
  {
   "cell_type": "markdown",
   "metadata": {},
   "source": [
    "# Test Mo(s) heat capacity data across phase transition\n",
    "In this notebook, I plot the heat capacity data for Mo(s) to determine whether or not its phase transition is correctly accounted for in heat capacity calculations. "
   ]
  },
  {
   "cell_type": "markdown",
   "metadata": {},
   "source": [
    "## Import Libraries"
   ]
  },
  {
   "cell_type": "code",
   "execution_count": 6,
   "metadata": {},
   "outputs": [],
   "source": [
    "import thermofun as fun\n",
    "import numpy as np\n",
    "import sympy as sp\n",
    "import matplotlib.pyplot as plt"
   ]
  },
  {
   "cell_type": "markdown",
   "metadata": {},
   "source": [
    "## Initialize a thermodynamic database"
   ]
  },
  {
   "cell_type": "code",
   "execution_count": 7,
   "metadata": {},
   "outputs": [],
   "source": [
    "database = fun.Database('./databases/Mo(s).json') # data copied from heracles-thermofun.json"
   ]
  },
  {
   "cell_type": "markdown",
   "metadata": {},
   "source": [
    "### Check the contents of the database (optional)"
   ]
  },
  {
   "cell_type": "code",
   "execution_count": 8,
   "metadata": {},
   "outputs": [
    {
     "name": "stdout",
     "output_type": "stream",
     "text": [
      "dict_keys(['Mo'])\n"
     ]
    }
   ],
   "source": [
    "substances = database.mapSubstances()\n",
    "print(substances.keys())"
   ]
  },
  {
   "cell_type": "markdown",
   "metadata": {},
   "source": [
    "## Set temperature range and define Maier-Kelly equation symbolically as an array of terms"
   ]
  },
  {
   "cell_type": "code",
   "execution_count": null,
   "metadata": {},
   "outputs": [],
   "source": [
    "# temperature array\n",
    "temp = np.linspace(300,2500,400) [K]\n",
    "\n",
    "# define symbol T (temperature) for symbolic math\n",
    "T = sp.symbols('T') \n",
    "\n",
    "# array of terms in Cp polynomial (w/o fit. params)\n",
    "poly_term= sp.Array([T**0, T**1, T**-2, T**-0.5, T**2, T**3]) "
   ]
  },
  {
   "cell_type": "markdown",
   "metadata": {},
   "source": [
    "## Calculate Mo(s) heat capacity by hand"
   ]
  },
  {
   "cell_type": "code",
   "execution_count": 11,
   "metadata": {
    "code_folding": []
   },
   "outputs": [],
   "source": [
    "# Mo heat capacity parameters for range 273-1900 K (copied directly from Mo(s).json file)\n",
    "Cp_coeff_low = np.array([24.729999542236,       # [J*mol^-1*K^-1]\n",
    "                         0.0039599998854101,    # [J*mol^-1*K^-2]\n",
    "                         -170000,               # [J*mol^-1*K]\n",
    "                         0,                     # [J*mol^-1*K^-1/2]\n",
    "                         -0.000001269999984288, # [J*mol^-1*K^-3]\n",
    "                         1.1499999841291e-9])   # [J*mol^-1*K^-4]\n",
    "\n",
    "# Mo heat capacity parameters for range 1900-2896 K (copied directly from Mo(s).json file)\n",
    "Cp_coeff_high = np.array([1231.1899414062,      # [J*mol^-1*K^-1]\n",
    "                         -0.96299999952316,     # [J*mol^-1*K^-2]\n",
    "                         -712000000,            # [J*mol^-1*K]\n",
    "                         0,                     # [J*mol^-1*K^-1/2]\n",
    "                         0.00028400000883266,   # [J*mol^-1*K^-3]\n",
    "                         -2.8000000540373e-8])  # [J*mol^-1*K^-4]\n",
    "\n",
    "# initialize heat capacity array\n",
    "Cp_by_hand = np.zeros(len(temp)) # [J*mol^-1*K^-1]\n",
    "\n",
    "for i, T_val in enumerate(temp): \n",
    "    # calculate heat capacity by hand\n",
    "    if T_val <= 1900: # [K]\n",
    "        # heat capacity for low temp. range\n",
    "        Cp_by_hand[i] = np.dot(Cp_coeff_low, poly_term.subs(T, T_val)) # [J*mol^-1*K^-1]\n",
    "    else: \n",
    "        # heat capacity for high temp. range\n",
    "        Cp_by_hand[i] = np.dot(Cp_coeff_high, poly_term.subs(T, T_val)) # [J*mol^-1*K^-1]"
   ]
  },
  {
   "cell_type": "markdown",
   "metadata": {},
   "source": [
    "## Calculate Mo(s) heat capacity over a temperature range using ThermoFun"
   ]
  },
  {
   "cell_type": "code",
   "execution_count": 13,
   "metadata": {
    "code_folding": []
   },
   "outputs": [],
   "source": [
    "# create engine for calculating heat capacity using ThermoFun\n",
    "engine = fun.ThermoEngine(database) \n",
    "\n",
    "# initialize heat capacity array\n",
    "Cp_ThermoFun = np.zeros(len(temp)) # [J*mol^-1*K^-1]\n",
    "\n",
    "for i, T_val in enumerate(temp): \n",
    "    # calculate heat capacity using ThermoFun\n",
    "    Cp_ThermoFun[i] = engine.thermoPropertiesSubstance(T_val, 2000e5, \"Mo\").heat_capacity_cp.val # [J*mol^-1*K^-1]"
   ]
  },
  {
   "cell_type": "markdown",
   "metadata": {},
   "source": [
    "## Plot the results"
   ]
  },
  {
   "cell_type": "code",
   "execution_count": 15,
   "metadata": {},
   "outputs": [
    {
     "data": {
      "text/plain": [
       "Text(0, 0.5, 'Cp (J*mol^-1*K^-1)')"
      ]
     },
     "execution_count": 15,
     "metadata": {},
     "output_type": "execute_result"
    },
    {
     "data": {
      "image/png": "[encoded data removed]",
      "text/plain": [
       "<Figure size 864x576 with 1 Axes>"
      ]
     },
     "metadata": {
      "needs_background": "light"
     },
     "output_type": "display_data"
    }
   ],
   "source": [
    "fig0, ax0 = plt.subplots(figsize=(12,8))\n",
    "\n",
    "ax0.plot(temp,Cp_by_hand)\n",
    "ax0.plot(temp,Cp_ThermoFun)\n",
    "ax0.legend(['Cp_by_hand', 'Cp_ThermoFun'])\n",
    "ax0.set_xlabel('T (K)')\n",
    "ax0.set_ylabel('Cp (J*mol^-1*K^-1)')"
   ]
  },
  {
   "cell_type": "code",
   "execution_count": null,
   "metadata": {},
   "outputs": [],
   "source": []
  }
 ],
 "metadata": {
  "kernelspec": {
   "display_name": "Python 3",
   "language": "python",
   "name": "python3"
  },
  "language_info": {
   "codemirror_mode": {
    "name": "ipython",
    "version": 3
   },
   "file_extension": ".py",
   "mimetype": "text/x-python",
   "name": "python",
   "nbconvert_exporter": "python",
   "pygments_lexer": "ipython3",
   "version": "3.8.5"
  },
  "toc": {
   "base_numbering": 1,
   "nav_menu": {},
   "number_sections": true,
   "sideBar": true,
   "skip_h1_title": false,
   "title_cell": "Table of Contents",
   "title_sidebar": "Contents",
   "toc_cell": false,
   "toc_position": {},
   "toc_section_display": true,
   "toc_window_display": false
  }
 },
 "nbformat": 4,
 "nbformat_minor": 4
}
