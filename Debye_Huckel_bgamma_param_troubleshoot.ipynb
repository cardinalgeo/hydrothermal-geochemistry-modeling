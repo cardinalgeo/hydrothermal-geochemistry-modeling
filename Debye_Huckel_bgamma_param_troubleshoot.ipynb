{
 "cells": [
  {
   "cell_type": "code",
   "execution_count": 4,
   "metadata": {},
   "outputs": [],
   "source": [
    "import reaktoro as rkt "
   ]
  },
  {
   "cell_type": "code",
   "execution_count": 5,
   "metadata": {},
   "outputs": [],
   "source": [
    "# create database object\n",
    "db = rkt.Database('supcrt98.xml')"
   ]
  },
  {
   "cell_type": "code",
   "execution_count": 32,
   "metadata": {},
   "outputs": [],
   "source": [
    "# Define the chemical system\n",
    "editor = rkt.ChemicalEditor(db)\n",
    "\n",
    "# list of aqueous species to add to the system\n",
    "aqueous_species = ['H2O(l)', 'H+', 'OH-', 'O2(aq)', 'H2(aq)', 'Cl-', \n",
    "                   'HCl(aq)', 'ClO4-', 'Na+', 'NaOH(aq)', 'NaCl(aq)']\n",
    "\n",
    "# set extended Debye-Huckel model parameters according to b-gamma model\n",
    "DH_model = rkt.DebyeHuckelParams()\n",
    "for species in aqueous_species:\n",
    "    if db.aqueousSpecies(species).charge() != 0 : # only change model parameters for charged species\n",
    "        DH_model.aion(species, 3.72) # constant ion size parameter\n",
    "        DH_model.bion(species, 0.0201) # constant b-gamma parameter calculated w/ HCh for NaCl background electrolyte @ 250 °C, P_sat\n",
    "\n",
    "# define aqueous phase()\n",
    "aqueous_phase = editor.addAqueousPhase(aqueous_species)\n",
    "aqueous_phase.setChemicalModelDebyeHuckel()\n",
    "\n",
    "# Construct the chemical system\n",
    "system = rkt.ChemicalSystem(editor)"
   ]
  },
  {
   "cell_type": "code",
   "execution_count": 33,
   "metadata": {},
   "outputs": [
    {
     "name": "stdout",
     "output_type": "stream",
     "text": [
      "=================================================================================================================================================================================================================================\n",
      "Temperature [K]          Temperature [C]          Pressure [Pa]            Pressure [bar]           \n",
      "---------------------------------------------------------------------------------------------------------------------------------------------------------------------------------------------------------------------------------\n",
      "523.15                   250                      3.9762e+06               39.762                   \n",
      "=================================================================================================================================================================================================================================\n",
      "Element                  Amount [mol]             Aqueous [mol]            Dual Potential [kJ/mol]  \n",
      "---------------------------------------------------------------------------------------------------------------------------------------------------------------------------------------------------------------------------------\n",
      "Cl                       0.1                      0.1                      -119.382                 \n",
      "H                        111.017                  111.017                  -82.7931                 \n",
      "Na                       0.1                      0.1                      -316.349                 \n",
      "O                        55.5084                  55.5084                  -92.5446                 \n",
      "Z                        0                        0                        26.9217                  \n",
      "=================================================================================================================================================================================================================================\n",
      "Species                  Amount [mol]             Mole Fraction [mol/mol]  Activity Coefficient [-] Activity [-]             Potential [kJ/mol]       Dual Potential [kJ/mol]  \n",
      "---------------------------------------------------------------------------------------------------------------------------------------------------------------------------------------------------------------------------------\n",
      "H2O(l)                   55.5084                  0.996708                 0.999114                 0.995825                 -258.131                 7.83613e-22              \n",
      "H+                       2.88518e-06              5.18062e-08              0.914921                 2.63971e-06              -55.8713                 1.5076e-14               \n",
      "OH-                      2.8757e-06               5.16361e-08              0.889642                 2.55835e-06              -202.259                 1.51257e-14              \n",
      "O2(aq)                   4.7846e-17               8.59121e-19              1.01938                  4.87732e-17              -185.088                 0.000909107              \n",
      "H2(aq)                   9.56927e-17              1.71825e-18              1.01938                  9.75472e-17              -165.586                 0.00045455               \n",
      "Cl-                      0.0833546                0.00149671               0.893321                 0.0744625                -146.304                 5.21832e-19              \n",
      "HCl(aq)                  4.74583e-07              8.5216e-09               1.01938                  4.83781e-07              -202.175                 9.16532e-14              \n",
      "ClO4-                    1.74218e-22              3.12825e-24              0.863928                 1.50512e-22              -266.811                 249.671                  \n",
      "Na+                      0.0833546                0.00149671               0.90716                  0.075616                 -289.428                 5.21832e-19              \n",
      "NaOH(aq)                 4.84058e-07              8.69174e-09              1.01938                  4.93439e-07              -491.687                 8.98592e-14              \n",
      "NaCl(aq)                 0.0166449                0.000298875              1.01938                  0.0169675                -435.731                 2.61324e-18              \n",
      "=================================================================================================================================================================================================================================\n",
      "Phase                    Amount [mol]             Stability                Stability Index [-]      Mass [kg]                Volume [m3]              Density [kg/m3]          Molar Volume [m3/mol]    Volume Fraction [m3/m3]  \n",
      "---------------------------------------------------------------------------------------------------------------------------------------------------------------------------------------------------------------------------------\n",
      "Aqueous                  55.6918                  stable                   -9.64327e-17             1.00584                  0.00125444               801.829                  2.25246e-05              1                        \n",
      "=================================================================================================================================================================================================================================\n",
      "Ionic Strength [molal]   pH                       pE                       Reduction Potential [V]  Alkalinity [eq/L]        \n",
      "---------------------------------------------------------------------------------------------------------------------------------------------------------------------------------------------------------------------------------\n",
      "0.0833576                5.57844                  2.68801                  0.279026                 -7.55324e-09             \n",
      "=================================================================================================================================================================================================================================\n",
      "\n"
     ]
    }
   ],
   "source": [
    "problem = rkt.EquilibriumProblem(system)\n",
    "\n",
    "# Set T,P conditions\n",
    "problem.setTemperature(250+273.15, \"kelvin\")\n",
    "problem.setPressure(rkt.waterSaturatedPressureWagnerPruss(problem.temperature()).val, \"Pa\")\n",
    "\n",
    "# Add components to system\n",
    "problem.add(\"H2O(l)\", 1, \"kg\")\n",
    "problem.add(\"NaCl(aq)\", 0.1, \"mol\")\n",
    "\n",
    "# Solve the inverse equilibrium problem\n",
    "state = rkt.equilibrate(problem)\n",
    "\n",
    "print(state)"
   ]
  },
  {
   "cell_type": "code",
   "execution_count": null,
   "metadata": {},
   "outputs": [],
   "source": []
  }
 ],
 "metadata": {
  "kernelspec": {
   "display_name": "Python [conda env:geochem_model_env] *",
   "language": "python",
   "name": "conda-env-geochem_model_env-py"
  },
  "language_info": {
   "codemirror_mode": {
    "name": "ipython",
    "version": 3
   },
   "file_extension": ".py",
   "mimetype": "text/x-python",
   "name": "python",
   "nbconvert_exporter": "python",
   "pygments_lexer": "ipython3",
   "version": "3.8.5"
  }
 },
 "nbformat": 4,
 "nbformat_minor": 4
}
